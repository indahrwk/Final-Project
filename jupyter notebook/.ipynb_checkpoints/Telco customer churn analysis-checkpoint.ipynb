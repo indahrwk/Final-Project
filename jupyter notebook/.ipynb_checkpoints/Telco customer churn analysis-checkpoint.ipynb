{
 "cells": [
  {
   "cell_type": "code",
   "execution_count": 1,
   "metadata": {},
   "outputs": [],
   "source": [
    "import numpy as np # linear algebra\n",
    "import pandas as pd # data processing\n",
    "import matplotlib.pyplot as plt # this is used for the plot the graph \n",
    "import seaborn as sns # used for plot interactive graph.\n",
    "import warnings\n",
    "warnings.filterwarnings(\"ignore\")\n",
    "\n",
    "from pylab import rcParams\n",
    "\n",
    "\n",
    "%matplotlib inline"
   ]
  },
  {
   "cell_type": "code",
   "execution_count": 2,
   "metadata": {},
   "outputs": [
    {
     "data": {
      "text/html": [
       "<div>\n",
       "<style scoped>\n",
       "    .dataframe tbody tr th:only-of-type {\n",
       "        vertical-align: middle;\n",
       "    }\n",
       "\n",
       "    .dataframe tbody tr th {\n",
       "        vertical-align: top;\n",
       "    }\n",
       "\n",
       "    .dataframe thead th {\n",
       "        text-align: right;\n",
       "    }\n",
       "</style>\n",
       "<table border=\"1\" class=\"dataframe\">\n",
       "  <thead>\n",
       "    <tr style=\"text-align: right;\">\n",
       "      <th></th>\n",
       "      <th>customerID</th>\n",
       "      <th>gender</th>\n",
       "      <th>SeniorCitizen</th>\n",
       "      <th>Partner</th>\n",
       "      <th>Dependents</th>\n",
       "      <th>tenure</th>\n",
       "      <th>PhoneService</th>\n",
       "      <th>MultipleLines</th>\n",
       "      <th>InternetService</th>\n",
       "      <th>OnlineSecurity</th>\n",
       "      <th>...</th>\n",
       "      <th>DeviceProtection</th>\n",
       "      <th>TechSupport</th>\n",
       "      <th>StreamingTV</th>\n",
       "      <th>StreamingMovies</th>\n",
       "      <th>Contract</th>\n",
       "      <th>PaperlessBilling</th>\n",
       "      <th>PaymentMethod</th>\n",
       "      <th>MonthlyCharges</th>\n",
       "      <th>TotalCharges</th>\n",
       "      <th>Churn</th>\n",
       "    </tr>\n",
       "  </thead>\n",
       "  <tbody>\n",
       "    <tr>\n",
       "      <th>0</th>\n",
       "      <td>7590-VHVEG</td>\n",
       "      <td>Female</td>\n",
       "      <td>0</td>\n",
       "      <td>Yes</td>\n",
       "      <td>No</td>\n",
       "      <td>1</td>\n",
       "      <td>No</td>\n",
       "      <td>No phone service</td>\n",
       "      <td>DSL</td>\n",
       "      <td>No</td>\n",
       "      <td>...</td>\n",
       "      <td>No</td>\n",
       "      <td>No</td>\n",
       "      <td>No</td>\n",
       "      <td>No</td>\n",
       "      <td>Month-to-month</td>\n",
       "      <td>Yes</td>\n",
       "      <td>Electronic check</td>\n",
       "      <td>29.85</td>\n",
       "      <td>29.85</td>\n",
       "      <td>No</td>\n",
       "    </tr>\n",
       "    <tr>\n",
       "      <th>1</th>\n",
       "      <td>5575-GNVDE</td>\n",
       "      <td>Male</td>\n",
       "      <td>0</td>\n",
       "      <td>No</td>\n",
       "      <td>No</td>\n",
       "      <td>34</td>\n",
       "      <td>Yes</td>\n",
       "      <td>No</td>\n",
       "      <td>DSL</td>\n",
       "      <td>Yes</td>\n",
       "      <td>...</td>\n",
       "      <td>Yes</td>\n",
       "      <td>No</td>\n",
       "      <td>No</td>\n",
       "      <td>No</td>\n",
       "      <td>One year</td>\n",
       "      <td>No</td>\n",
       "      <td>Mailed check</td>\n",
       "      <td>56.95</td>\n",
       "      <td>1889.5</td>\n",
       "      <td>No</td>\n",
       "    </tr>\n",
       "    <tr>\n",
       "      <th>2</th>\n",
       "      <td>3668-QPYBK</td>\n",
       "      <td>Male</td>\n",
       "      <td>0</td>\n",
       "      <td>No</td>\n",
       "      <td>No</td>\n",
       "      <td>2</td>\n",
       "      <td>Yes</td>\n",
       "      <td>No</td>\n",
       "      <td>DSL</td>\n",
       "      <td>Yes</td>\n",
       "      <td>...</td>\n",
       "      <td>No</td>\n",
       "      <td>No</td>\n",
       "      <td>No</td>\n",
       "      <td>No</td>\n",
       "      <td>Month-to-month</td>\n",
       "      <td>Yes</td>\n",
       "      <td>Mailed check</td>\n",
       "      <td>53.85</td>\n",
       "      <td>108.15</td>\n",
       "      <td>Yes</td>\n",
       "    </tr>\n",
       "    <tr>\n",
       "      <th>3</th>\n",
       "      <td>7795-CFOCW</td>\n",
       "      <td>Male</td>\n",
       "      <td>0</td>\n",
       "      <td>No</td>\n",
       "      <td>No</td>\n",
       "      <td>45</td>\n",
       "      <td>No</td>\n",
       "      <td>No phone service</td>\n",
       "      <td>DSL</td>\n",
       "      <td>Yes</td>\n",
       "      <td>...</td>\n",
       "      <td>Yes</td>\n",
       "      <td>Yes</td>\n",
       "      <td>No</td>\n",
       "      <td>No</td>\n",
       "      <td>One year</td>\n",
       "      <td>No</td>\n",
       "      <td>Bank transfer (automatic)</td>\n",
       "      <td>42.30</td>\n",
       "      <td>1840.75</td>\n",
       "      <td>No</td>\n",
       "    </tr>\n",
       "    <tr>\n",
       "      <th>4</th>\n",
       "      <td>9237-HQITU</td>\n",
       "      <td>Female</td>\n",
       "      <td>0</td>\n",
       "      <td>No</td>\n",
       "      <td>No</td>\n",
       "      <td>2</td>\n",
       "      <td>Yes</td>\n",
       "      <td>No</td>\n",
       "      <td>Fiber optic</td>\n",
       "      <td>No</td>\n",
       "      <td>...</td>\n",
       "      <td>No</td>\n",
       "      <td>No</td>\n",
       "      <td>No</td>\n",
       "      <td>No</td>\n",
       "      <td>Month-to-month</td>\n",
       "      <td>Yes</td>\n",
       "      <td>Electronic check</td>\n",
       "      <td>70.70</td>\n",
       "      <td>151.65</td>\n",
       "      <td>Yes</td>\n",
       "    </tr>\n",
       "  </tbody>\n",
       "</table>\n",
       "<p>5 rows × 21 columns</p>\n",
       "</div>"
      ],
      "text/plain": [
       "   customerID  gender  SeniorCitizen Partner Dependents  tenure PhoneService  \\\n",
       "0  7590-VHVEG  Female              0     Yes         No       1           No   \n",
       "1  5575-GNVDE    Male              0      No         No      34          Yes   \n",
       "2  3668-QPYBK    Male              0      No         No       2          Yes   \n",
       "3  7795-CFOCW    Male              0      No         No      45           No   \n",
       "4  9237-HQITU  Female              0      No         No       2          Yes   \n",
       "\n",
       "      MultipleLines InternetService OnlineSecurity  ...  DeviceProtection  \\\n",
       "0  No phone service             DSL             No  ...                No   \n",
       "1                No             DSL            Yes  ...               Yes   \n",
       "2                No             DSL            Yes  ...                No   \n",
       "3  No phone service             DSL            Yes  ...               Yes   \n",
       "4                No     Fiber optic             No  ...                No   \n",
       "\n",
       "  TechSupport StreamingTV StreamingMovies        Contract PaperlessBilling  \\\n",
       "0          No          No              No  Month-to-month              Yes   \n",
       "1          No          No              No        One year               No   \n",
       "2          No          No              No  Month-to-month              Yes   \n",
       "3         Yes          No              No        One year               No   \n",
       "4          No          No              No  Month-to-month              Yes   \n",
       "\n",
       "               PaymentMethod MonthlyCharges  TotalCharges Churn  \n",
       "0           Electronic check          29.85         29.85    No  \n",
       "1               Mailed check          56.95        1889.5    No  \n",
       "2               Mailed check          53.85        108.15   Yes  \n",
       "3  Bank transfer (automatic)          42.30       1840.75    No  \n",
       "4           Electronic check          70.70        151.65   Yes  \n",
       "\n",
       "[5 rows x 21 columns]"
      ]
     },
     "execution_count": 2,
     "metadata": {},
     "output_type": "execute_result"
    }
   ],
   "source": [
    "dftelco = pd.read_csv('WA_Fn-UseC_-Telco-Customer-Churn.csv')\n",
    "dftelco.head()"
   ]
  },
  {
   "cell_type": "code",
   "execution_count": 3,
   "metadata": {},
   "outputs": [
    {
     "name": "stdout",
     "output_type": "stream",
     "text": [
      "Missing Value Rows--> [488, 753, 936, 1082, 1340, 3331, 3826, 4380, 5218, 6670, 6754] \n",
      "Total rows--> 11\n"
     ]
    }
   ],
   "source": [
    "missing_value_row = list(dftelco[dftelco['TotalCharges'] == \" \"].index)\n",
    "print('Missing Value Rows-->', missing_value_row , '\\nTotal rows-->', len(missing_value_row))"
   ]
  },
  {
   "cell_type": "code",
   "execution_count": 4,
   "metadata": {},
   "outputs": [],
   "source": [
    "# fill = dftelco.MonthlyCharges * dftelco.tenure\n",
    "# dftelco.TotalCharges.fillna(fill,inplace=True)\n",
    "# dftelco.isnull().sum()\n",
    "\n",
    "for missing_row in missing_value_row :\n",
    "    dftelco['TotalCharges'][missing_row] = 0"
   ]
  },
  {
   "cell_type": "code",
   "execution_count": 5,
   "metadata": {},
   "outputs": [
    {
     "name": "stdout",
     "output_type": "stream",
     "text": [
      "0 Value Rows--> [488, 753, 936, 1082, 1340, 3331, 3826, 4380, 5218, 6670, 6754] \n",
      "Total rows--> 11\n",
      "52.55 0 0.0\n",
      "20.25 0 0.0\n",
      "80.85 0 0.0\n",
      "25.75 0 0.0\n",
      "56.05 0 0.0\n",
      "19.85 0 0.0\n",
      "25.35 0 0.0\n",
      "20.0 0 0.0\n",
      "19.7 0 0.0\n",
      "73.35 0 0.0\n",
      "61.9 0 0.0\n"
     ]
    }
   ],
   "source": [
    "print('0 Value Rows-->', missing_value_row , '\\nTotal rows-->', len(missing_value_row))\n",
    "\n",
    "zero_value_row = list(dftelco[dftelco['TotalCharges'] == 0].index)\n",
    "for zero_row in zero_value_row :\n",
    "    dftelco['TotalCharges'][zero_row] = dftelco['tenure'][zero_row] * dftelco['MonthlyCharges'][zero_row]\n",
    "\n",
    "for zero_row in zero_value_row :\n",
    "    print( dftelco['MonthlyCharges'][zero_row],dftelco['tenure'][zero_row],dftelco['TotalCharges'][zero_row])\n",
    "# Tenure itu 0 untuk cstomers dengan TotalCharges 0,"
   ]
  },
  {
   "cell_type": "code",
   "execution_count": 6,
   "metadata": {},
   "outputs": [],
   "source": [
    "dftelco['TotalCharges']=pd.to_numeric(dftelco['TotalCharges'])"
   ]
  },
  {
   "cell_type": "code",
   "execution_count": 7,
   "metadata": {},
   "outputs": [
    {
     "data": {
      "text/html": [
       "<div>\n",
       "<style scoped>\n",
       "    .dataframe tbody tr th:only-of-type {\n",
       "        vertical-align: middle;\n",
       "    }\n",
       "\n",
       "    .dataframe tbody tr th {\n",
       "        vertical-align: top;\n",
       "    }\n",
       "\n",
       "    .dataframe thead th {\n",
       "        text-align: right;\n",
       "    }\n",
       "</style>\n",
       "<table border=\"1\" class=\"dataframe\">\n",
       "  <thead>\n",
       "    <tr style=\"text-align: right;\">\n",
       "      <th></th>\n",
       "      <th>MonthlyCharges</th>\n",
       "      <th>tenure</th>\n",
       "      <th>TotalCharges</th>\n",
       "    </tr>\n",
       "  </thead>\n",
       "  <tbody>\n",
       "    <tr>\n",
       "      <th>0</th>\n",
       "      <td>29.85</td>\n",
       "      <td>1</td>\n",
       "      <td>29.85</td>\n",
       "    </tr>\n",
       "    <tr>\n",
       "      <th>1</th>\n",
       "      <td>56.95</td>\n",
       "      <td>34</td>\n",
       "      <td>1889.50</td>\n",
       "    </tr>\n",
       "    <tr>\n",
       "      <th>2</th>\n",
       "      <td>53.85</td>\n",
       "      <td>2</td>\n",
       "      <td>108.15</td>\n",
       "    </tr>\n",
       "    <tr>\n",
       "      <th>3</th>\n",
       "      <td>42.30</td>\n",
       "      <td>45</td>\n",
       "      <td>1840.75</td>\n",
       "    </tr>\n",
       "    <tr>\n",
       "      <th>4</th>\n",
       "      <td>70.70</td>\n",
       "      <td>2</td>\n",
       "      <td>151.65</td>\n",
       "    </tr>\n",
       "  </tbody>\n",
       "</table>\n",
       "</div>"
      ],
      "text/plain": [
       "   MonthlyCharges  tenure  TotalCharges\n",
       "0           29.85       1         29.85\n",
       "1           56.95      34       1889.50\n",
       "2           53.85       2        108.15\n",
       "3           42.30      45       1840.75\n",
       "4           70.70       2        151.65"
      ]
     },
     "execution_count": 7,
     "metadata": {},
     "output_type": "execute_result"
    }
   ],
   "source": [
    "dftelco[['MonthlyCharges','tenure','TotalCharges']].head()"
   ]
  },
  {
   "cell_type": "code",
   "execution_count": 8,
   "metadata": {},
   "outputs": [
    {
     "name": "stdout",
     "output_type": "stream",
     "text": [
      "<class 'pandas.core.frame.DataFrame'>\n",
      "RangeIndex: 7043 entries, 0 to 7042\n",
      "Data columns (total 21 columns):\n",
      "customerID          7043 non-null object\n",
      "gender              7043 non-null object\n",
      "SeniorCitizen       7043 non-null int64\n",
      "Partner             7043 non-null object\n",
      "Dependents          7043 non-null object\n",
      "tenure              7043 non-null int64\n",
      "PhoneService        7043 non-null object\n",
      "MultipleLines       7043 non-null object\n",
      "InternetService     7043 non-null object\n",
      "OnlineSecurity      7043 non-null object\n",
      "OnlineBackup        7043 non-null object\n",
      "DeviceProtection    7043 non-null object\n",
      "TechSupport         7043 non-null object\n",
      "StreamingTV         7043 non-null object\n",
      "StreamingMovies     7043 non-null object\n",
      "Contract            7043 non-null object\n",
      "PaperlessBilling    7043 non-null object\n",
      "PaymentMethod       7043 non-null object\n",
      "MonthlyCharges      7043 non-null float64\n",
      "TotalCharges        7043 non-null float64\n",
      "Churn               7043 non-null object\n",
      "dtypes: float64(2), int64(2), object(17)\n",
      "memory usage: 1.1+ MB\n"
     ]
    }
   ],
   "source": [
    "dftelco.info()"
   ]
  },
  {
   "cell_type": "code",
   "execution_count": 9,
   "metadata": {},
   "outputs": [
    {
     "data": {
      "text/html": [
       "<div>\n",
       "<style scoped>\n",
       "    .dataframe tbody tr th:only-of-type {\n",
       "        vertical-align: middle;\n",
       "    }\n",
       "\n",
       "    .dataframe tbody tr th {\n",
       "        vertical-align: top;\n",
       "    }\n",
       "\n",
       "    .dataframe thead th {\n",
       "        text-align: right;\n",
       "    }\n",
       "</style>\n",
       "<table border=\"1\" class=\"dataframe\">\n",
       "  <thead>\n",
       "    <tr style=\"text-align: right;\">\n",
       "      <th></th>\n",
       "      <th>dataFeatures</th>\n",
       "      <th>dataType</th>\n",
       "      <th>null</th>\n",
       "      <th>nullPct</th>\n",
       "      <th>unique</th>\n",
       "      <th>uniqueSample</th>\n",
       "    </tr>\n",
       "  </thead>\n",
       "  <tbody>\n",
       "    <tr>\n",
       "      <th>0</th>\n",
       "      <td>customerID</td>\n",
       "      <td>object</td>\n",
       "      <td>0</td>\n",
       "      <td>0.0</td>\n",
       "      <td>7043</td>\n",
       "      <td>[4950-HKQTE, 1846-XWOQN]</td>\n",
       "    </tr>\n",
       "    <tr>\n",
       "      <th>1</th>\n",
       "      <td>gender</td>\n",
       "      <td>object</td>\n",
       "      <td>0</td>\n",
       "      <td>0.0</td>\n",
       "      <td>2</td>\n",
       "      <td>[Female, Male]</td>\n",
       "    </tr>\n",
       "    <tr>\n",
       "      <th>2</th>\n",
       "      <td>SeniorCitizen</td>\n",
       "      <td>int64</td>\n",
       "      <td>0</td>\n",
       "      <td>0.0</td>\n",
       "      <td>2</td>\n",
       "      <td>[1, 0]</td>\n",
       "    </tr>\n",
       "    <tr>\n",
       "      <th>3</th>\n",
       "      <td>Partner</td>\n",
       "      <td>object</td>\n",
       "      <td>0</td>\n",
       "      <td>0.0</td>\n",
       "      <td>2</td>\n",
       "      <td>[No, Yes]</td>\n",
       "    </tr>\n",
       "    <tr>\n",
       "      <th>4</th>\n",
       "      <td>Dependents</td>\n",
       "      <td>object</td>\n",
       "      <td>0</td>\n",
       "      <td>0.0</td>\n",
       "      <td>2</td>\n",
       "      <td>[Yes, No]</td>\n",
       "    </tr>\n",
       "    <tr>\n",
       "      <th>5</th>\n",
       "      <td>tenure</td>\n",
       "      <td>int64</td>\n",
       "      <td>0</td>\n",
       "      <td>0.0</td>\n",
       "      <td>73</td>\n",
       "      <td>[56, 6]</td>\n",
       "    </tr>\n",
       "    <tr>\n",
       "      <th>6</th>\n",
       "      <td>PhoneService</td>\n",
       "      <td>object</td>\n",
       "      <td>0</td>\n",
       "      <td>0.0</td>\n",
       "      <td>2</td>\n",
       "      <td>[Yes, No]</td>\n",
       "    </tr>\n",
       "    <tr>\n",
       "      <th>7</th>\n",
       "      <td>MultipleLines</td>\n",
       "      <td>object</td>\n",
       "      <td>0</td>\n",
       "      <td>0.0</td>\n",
       "      <td>3</td>\n",
       "      <td>[Yes, No phone service]</td>\n",
       "    </tr>\n",
       "    <tr>\n",
       "      <th>8</th>\n",
       "      <td>InternetService</td>\n",
       "      <td>object</td>\n",
       "      <td>0</td>\n",
       "      <td>0.0</td>\n",
       "      <td>3</td>\n",
       "      <td>[DSL, Fiber optic]</td>\n",
       "    </tr>\n",
       "    <tr>\n",
       "      <th>9</th>\n",
       "      <td>OnlineSecurity</td>\n",
       "      <td>object</td>\n",
       "      <td>0</td>\n",
       "      <td>0.0</td>\n",
       "      <td>3</td>\n",
       "      <td>[No, No internet service]</td>\n",
       "    </tr>\n",
       "    <tr>\n",
       "      <th>10</th>\n",
       "      <td>OnlineBackup</td>\n",
       "      <td>object</td>\n",
       "      <td>0</td>\n",
       "      <td>0.0</td>\n",
       "      <td>3</td>\n",
       "      <td>[Yes, No]</td>\n",
       "    </tr>\n",
       "    <tr>\n",
       "      <th>11</th>\n",
       "      <td>DeviceProtection</td>\n",
       "      <td>object</td>\n",
       "      <td>0</td>\n",
       "      <td>0.0</td>\n",
       "      <td>3</td>\n",
       "      <td>[Yes, No]</td>\n",
       "    </tr>\n",
       "    <tr>\n",
       "      <th>12</th>\n",
       "      <td>TechSupport</td>\n",
       "      <td>object</td>\n",
       "      <td>0</td>\n",
       "      <td>0.0</td>\n",
       "      <td>3</td>\n",
       "      <td>[No, No internet service]</td>\n",
       "    </tr>\n",
       "    <tr>\n",
       "      <th>13</th>\n",
       "      <td>StreamingTV</td>\n",
       "      <td>object</td>\n",
       "      <td>0</td>\n",
       "      <td>0.0</td>\n",
       "      <td>3</td>\n",
       "      <td>[Yes, No]</td>\n",
       "    </tr>\n",
       "    <tr>\n",
       "      <th>14</th>\n",
       "      <td>StreamingMovies</td>\n",
       "      <td>object</td>\n",
       "      <td>0</td>\n",
       "      <td>0.0</td>\n",
       "      <td>3</td>\n",
       "      <td>[No, Yes]</td>\n",
       "    </tr>\n",
       "    <tr>\n",
       "      <th>15</th>\n",
       "      <td>Contract</td>\n",
       "      <td>object</td>\n",
       "      <td>0</td>\n",
       "      <td>0.0</td>\n",
       "      <td>3</td>\n",
       "      <td>[Month-to-month, Two year]</td>\n",
       "    </tr>\n",
       "    <tr>\n",
       "      <th>16</th>\n",
       "      <td>PaperlessBilling</td>\n",
       "      <td>object</td>\n",
       "      <td>0</td>\n",
       "      <td>0.0</td>\n",
       "      <td>2</td>\n",
       "      <td>[No, Yes]</td>\n",
       "    </tr>\n",
       "    <tr>\n",
       "      <th>17</th>\n",
       "      <td>PaymentMethod</td>\n",
       "      <td>object</td>\n",
       "      <td>0</td>\n",
       "      <td>0.0</td>\n",
       "      <td>4</td>\n",
       "      <td>[Electronic check, Credit card (automatic)]</td>\n",
       "    </tr>\n",
       "    <tr>\n",
       "      <th>18</th>\n",
       "      <td>MonthlyCharges</td>\n",
       "      <td>float64</td>\n",
       "      <td>0</td>\n",
       "      <td>0.0</td>\n",
       "      <td>1585</td>\n",
       "      <td>[78.2, 94.2]</td>\n",
       "    </tr>\n",
       "    <tr>\n",
       "      <th>19</th>\n",
       "      <td>TotalCharges</td>\n",
       "      <td>float64</td>\n",
       "      <td>0</td>\n",
       "      <td>0.0</td>\n",
       "      <td>6531</td>\n",
       "      <td>[156.85, 3784.0]</td>\n",
       "    </tr>\n",
       "    <tr>\n",
       "      <th>20</th>\n",
       "      <td>Churn</td>\n",
       "      <td>object</td>\n",
       "      <td>0</td>\n",
       "      <td>0.0</td>\n",
       "      <td>2</td>\n",
       "      <td>[No, Yes]</td>\n",
       "    </tr>\n",
       "  </tbody>\n",
       "</table>\n",
       "</div>"
      ],
      "text/plain": [
       "        dataFeatures dataType  null  nullPct  unique  \\\n",
       "0         customerID   object     0      0.0    7043   \n",
       "1             gender   object     0      0.0       2   \n",
       "2      SeniorCitizen    int64     0      0.0       2   \n",
       "3            Partner   object     0      0.0       2   \n",
       "4         Dependents   object     0      0.0       2   \n",
       "5             tenure    int64     0      0.0      73   \n",
       "6       PhoneService   object     0      0.0       2   \n",
       "7      MultipleLines   object     0      0.0       3   \n",
       "8    InternetService   object     0      0.0       3   \n",
       "9     OnlineSecurity   object     0      0.0       3   \n",
       "10      OnlineBackup   object     0      0.0       3   \n",
       "11  DeviceProtection   object     0      0.0       3   \n",
       "12       TechSupport   object     0      0.0       3   \n",
       "13       StreamingTV   object     0      0.0       3   \n",
       "14   StreamingMovies   object     0      0.0       3   \n",
       "15          Contract   object     0      0.0       3   \n",
       "16  PaperlessBilling   object     0      0.0       2   \n",
       "17     PaymentMethod   object     0      0.0       4   \n",
       "18    MonthlyCharges  float64     0      0.0    1585   \n",
       "19      TotalCharges  float64     0      0.0    6531   \n",
       "20             Churn   object     0      0.0       2   \n",
       "\n",
       "                                   uniqueSample  \n",
       "0                      [4950-HKQTE, 1846-XWOQN]  \n",
       "1                                [Female, Male]  \n",
       "2                                        [1, 0]  \n",
       "3                                     [No, Yes]  \n",
       "4                                     [Yes, No]  \n",
       "5                                       [56, 6]  \n",
       "6                                     [Yes, No]  \n",
       "7                       [Yes, No phone service]  \n",
       "8                            [DSL, Fiber optic]  \n",
       "9                     [No, No internet service]  \n",
       "10                                    [Yes, No]  \n",
       "11                                    [Yes, No]  \n",
       "12                    [No, No internet service]  \n",
       "13                                    [Yes, No]  \n",
       "14                                    [No, Yes]  \n",
       "15                   [Month-to-month, Two year]  \n",
       "16                                    [No, Yes]  \n",
       "17  [Electronic check, Credit card (automatic)]  \n",
       "18                                 [78.2, 94.2]  \n",
       "19                             [156.85, 3784.0]  \n",
       "20                                    [No, Yes]  "
      ]
     },
     "execution_count": 9,
     "metadata": {},
     "output_type": "execute_result"
    }
   ],
   "source": [
    "listItem = []\n",
    "for col in dftelco.columns :\n",
    "    listItem.append([col, dftelco[col].dtype, dftelco[col].isna().sum(), round((dftelco[col].isna().sum()/len(dftelco[col])) * 100,2),\n",
    "                    dftelco[col].nunique(), list(dftelco[col].drop_duplicates().sample(2).values)]);\n",
    "\n",
    "dfDesc = pd.DataFrame(columns=['dataFeatures', 'dataType', 'null', 'nullPct', 'unique', 'uniqueSample'],\n",
    "                     data=listItem)\n",
    "dfDesc"
   ]
  },
  {
   "cell_type": "code",
   "execution_count": 10,
   "metadata": {},
   "outputs": [
    {
     "data": {
      "text/html": [
       "<div>\n",
       "<style scoped>\n",
       "    .dataframe tbody tr th:only-of-type {\n",
       "        vertical-align: middle;\n",
       "    }\n",
       "\n",
       "    .dataframe tbody tr th {\n",
       "        vertical-align: top;\n",
       "    }\n",
       "\n",
       "    .dataframe thead th {\n",
       "        text-align: right;\n",
       "    }\n",
       "</style>\n",
       "<table border=\"1\" class=\"dataframe\">\n",
       "  <thead>\n",
       "    <tr style=\"text-align: right;\">\n",
       "      <th></th>\n",
       "      <th>SeniorCitizen</th>\n",
       "      <th>tenure</th>\n",
       "      <th>MonthlyCharges</th>\n",
       "      <th>TotalCharges</th>\n",
       "    </tr>\n",
       "  </thead>\n",
       "  <tbody>\n",
       "    <tr>\n",
       "      <th>count</th>\n",
       "      <td>7043.000000</td>\n",
       "      <td>7043.000000</td>\n",
       "      <td>7043.000000</td>\n",
       "      <td>7043.000000</td>\n",
       "    </tr>\n",
       "    <tr>\n",
       "      <th>mean</th>\n",
       "      <td>0.162147</td>\n",
       "      <td>32.371149</td>\n",
       "      <td>64.761692</td>\n",
       "      <td>2279.734304</td>\n",
       "    </tr>\n",
       "    <tr>\n",
       "      <th>std</th>\n",
       "      <td>0.368612</td>\n",
       "      <td>24.559481</td>\n",
       "      <td>30.090047</td>\n",
       "      <td>2266.794470</td>\n",
       "    </tr>\n",
       "    <tr>\n",
       "      <th>min</th>\n",
       "      <td>0.000000</td>\n",
       "      <td>0.000000</td>\n",
       "      <td>18.250000</td>\n",
       "      <td>0.000000</td>\n",
       "    </tr>\n",
       "    <tr>\n",
       "      <th>25%</th>\n",
       "      <td>0.000000</td>\n",
       "      <td>9.000000</td>\n",
       "      <td>35.500000</td>\n",
       "      <td>398.550000</td>\n",
       "    </tr>\n",
       "    <tr>\n",
       "      <th>50%</th>\n",
       "      <td>0.000000</td>\n",
       "      <td>29.000000</td>\n",
       "      <td>70.350000</td>\n",
       "      <td>1394.550000</td>\n",
       "    </tr>\n",
       "    <tr>\n",
       "      <th>75%</th>\n",
       "      <td>0.000000</td>\n",
       "      <td>55.000000</td>\n",
       "      <td>89.850000</td>\n",
       "      <td>3786.600000</td>\n",
       "    </tr>\n",
       "    <tr>\n",
       "      <th>max</th>\n",
       "      <td>1.000000</td>\n",
       "      <td>72.000000</td>\n",
       "      <td>118.750000</td>\n",
       "      <td>8684.800000</td>\n",
       "    </tr>\n",
       "  </tbody>\n",
       "</table>\n",
       "</div>"
      ],
      "text/plain": [
       "       SeniorCitizen       tenure  MonthlyCharges  TotalCharges\n",
       "count    7043.000000  7043.000000     7043.000000   7043.000000\n",
       "mean        0.162147    32.371149       64.761692   2279.734304\n",
       "std         0.368612    24.559481       30.090047   2266.794470\n",
       "min         0.000000     0.000000       18.250000      0.000000\n",
       "25%         0.000000     9.000000       35.500000    398.550000\n",
       "50%         0.000000    29.000000       70.350000   1394.550000\n",
       "75%         0.000000    55.000000       89.850000   3786.600000\n",
       "max         1.000000    72.000000      118.750000   8684.800000"
      ]
     },
     "execution_count": 10,
     "metadata": {},
     "output_type": "execute_result"
    }
   ],
   "source": [
    "dftelco.describe()"
   ]
  },
  {
   "cell_type": "markdown",
   "metadata": {},
   "source": [
    "## Exploratory Data Analysis"
   ]
  },
  {
   "cell_type": "code",
   "execution_count": 11,
   "metadata": {},
   "outputs": [],
   "source": [
    "dftelco.drop(['customerID'], axis=1, inplace=True)"
   ]
  },
  {
   "cell_type": "code",
   "execution_count": 12,
   "metadata": {},
   "outputs": [
    {
     "data": {
      "text/plain": [
       "Yes    1869\n",
       "No     5174\n",
       "Name: Churn, dtype: int64"
      ]
     },
     "execution_count": 12,
     "metadata": {},
     "output_type": "execute_result"
    }
   ],
   "source": [
    "#Target feature\n",
    "dftelco['Churn'].value_counts(sort=False)"
   ]
  },
  {
   "cell_type": "code",
   "execution_count": 13,
   "metadata": {},
   "outputs": [
    {
     "data": {
      "image/png": "[encoded data removed]",
      "text/plain": [
       "<Figure size 576x576 with 1 Axes>"
      ]
     },
     "metadata": {},
     "output_type": "display_data"
    }
   ],
   "source": [
    "#data to plot\n",
    "labels = dftelco['Churn'].value_counts(sort = True).index\n",
    "sizes = dftelco['Churn'].value_counts(sort = True)\n",
    "\n",
    "colors = [\"whitesmoke\",\"red\"]\n",
    "explode = (0.1,0)\n",
    "\n",
    "rcParams['figure.figsize'] = 8,8\n",
    "#plot\n",
    "plt.pie(sizes, explode=explode, labels=labels, colors=colors,\n",
    "        autopct='%1.1f%%', shadow=True, startangle=270,)\n",
    "\n",
    "plt.title('percent of churn in customer')\n",
    "plt.show()"
   ]
  },
  {
   "cell_type": "code",
   "execution_count": 14,
   "metadata": {},
   "outputs": [
    {
     "data": {
      "text/plain": [
       "<matplotlib.axes._subplots.AxesSubplot at 0x23937af0400>"
      ]
     },
     "execution_count": 14,
     "metadata": {},
     "output_type": "execute_result"
    },
    {
     "data": {
      "image/png": "[encoded data removed]",
      "text/plain": [
       "<Figure size 1440x720 with 6 Axes>"
      ]
     },
     "metadata": {},
     "output_type": "display_data"
    }
   ],
   "source": [
    "# print('Univariate Analysis of each numerical Variables')\n",
    "f, axes = plt.subplots(2, 3, figsize=(20,10))\n",
    "#Charting the histogram\n",
    "dftelco[\"tenure\"].plot.hist(color='DarkBlue', alpha=0.7, bins=50, title='tenure',ax=axes[0, 0])\n",
    "dftelco[\"MonthlyCharges\"].plot.hist(color='DarkBlue', alpha=0.7, bins=50, title='MonthlyCharges',ax=axes[0, 1])\n",
    "dftelco[\"TotalCharges\"].plot.hist(color='DarkBlue', alpha=0.7, bins=50, title='TotalCharges',ax=axes[0, 2])\n",
    "\n",
    "#Charting the density plot\n",
    "sns.distplot( dftelco[\"tenure\"] , kde=True, rug=False, color=\"skyblue\", ax=axes[1, 0])\n",
    "sns.distplot( dftelco[\"MonthlyCharges\"] , kde=True, rug=False, color=\"olive\", ax=axes[1, 1])\n",
    "sns.distplot( dftelco[\"TotalCharges\"] , kde=True, rug=False, color=\"gold\", ax=axes[1, 2])"
   ]
  },
  {
   "cell_type": "code",
   "execution_count": 15,
   "metadata": {},
   "outputs": [],
   "source": [
    "dftelco['Churn'] = dftelco['Churn'].map(lambda s :1  if s =='Yes' else 0)"
   ]
  },
  {
   "cell_type": "code",
   "execution_count": 16,
   "metadata": {},
   "outputs": [
    {
     "data": {
      "text/plain": [
       "<matplotlib.axes._subplots.AxesSubplot at 0x23938584f98>"
      ]
     },
     "execution_count": 16,
     "metadata": {},
     "output_type": "execute_result"
    },
    {
     "data": {
      "image/png": "[encoded data removed]",
      "text/plain": [
       "<Figure size 1080x360 with 2 Axes>"
      ]
     },
     "metadata": {},
     "output_type": "display_data"
    }
   ],
   "source": [
    "# Let's Check for Outliers using Box Plot for Tenure, MonthlyCharges, TotalCharges\n",
    "f, axes = plt.subplots(1, 2, figsize=(15,5))\n",
    "# sns.boxplot(x=dftelco[\"tenure\"], orient=\"v\", color=\"olive\",ax=axes[0])\n",
    "sns.boxplot(x=dftelco[\"MonthlyCharges\"], orient=\"v\", color=\"gold\",ax=axes[0])\n",
    "sns.boxplot(x=dftelco[\"TotalCharges\"] , orient=\"v\", color=\"skyblue\",ax=axes[1])"
   ]
  },
  {
   "cell_type": "markdown",
   "metadata": {},
   "source": [
    "## one hot encoding , label encoder"
   ]
  },
  {
   "cell_type": "code",
   "execution_count": 17,
   "metadata": {},
   "outputs": [
    {
     "data": {
      "image/png": "[encoded data removed]",
      "text/plain": [
       "<Figure size 360x360 with 1 Axes>"
      ]
     },
     "metadata": {},
     "output_type": "display_data"
    }
   ],
   "source": [
    "#create new binary columns.\n",
    "\n",
    "g = sns.factorplot(y=\"Churn\",x=\"gender\",data=dftelco,kind=\"bar\" ,palette = \"Pastel1\")"
   ]
  },
  {
   "cell_type": "code",
   "execution_count": 18,
   "metadata": {},
   "outputs": [],
   "source": [
    "dftelco = pd.get_dummies(data=dftelco, columns=['gender'])"
   ]
  },
  {
   "cell_type": "code",
   "execution_count": 19,
   "metadata": {},
   "outputs": [
    {
     "data": {
      "text/plain": [
       "0    5901\n",
       "1    1142\n",
       "Name: SeniorCitizen, dtype: int64"
      ]
     },
     "execution_count": 19,
     "metadata": {},
     "output_type": "execute_result"
    }
   ],
   "source": [
    "dftelco['SeniorCitizen'].value_counts()"
   ]
  },
  {
   "cell_type": "code",
   "execution_count": 20,
   "metadata": {},
   "outputs": [
    {
     "data": {
      "text/plain": [
       "0    3641\n",
       "1    3402\n",
       "Name: Partner, dtype: int64"
      ]
     },
     "execution_count": 20,
     "metadata": {},
     "output_type": "execute_result"
    }
   ],
   "source": [
    "dftelco['Partner'] = dftelco['Partner'].map(lambda s :1  if s =='Yes' else 0)\n",
    "dftelco['Partner'].value_counts()"
   ]
  },
  {
   "cell_type": "code",
   "execution_count": 21,
   "metadata": {},
   "outputs": [],
   "source": [
    "dftelco['Dependents'] = dftelco['Dependents'].map(lambda s :1  if s =='Yes' else 0)\n",
    "dftelco['PhoneService'] = dftelco['PhoneService'].map(lambda s :1  if s =='Yes' else 0)\n",
    "dftelco['PaperlessBilling'] = dftelco['PaperlessBilling'].map(lambda s :1  if s =='Yes' else 0)"
   ]
  },
  {
   "cell_type": "code",
   "execution_count": 22,
   "metadata": {},
   "outputs": [
    {
     "data": {
      "text/plain": [
       "No                  3390\n",
       "Yes                 2971\n",
       "No phone service     682\n",
       "Name: MultipleLines, dtype: int64"
      ]
     },
     "execution_count": 22,
     "metadata": {},
     "output_type": "execute_result"
    }
   ],
   "source": [
    "dftelco['MultipleLines'].value_counts()\n"
   ]
  },
  {
   "cell_type": "code",
   "execution_count": 23,
   "metadata": {},
   "outputs": [
    {
     "data": {
      "text/plain": [
       "0    4072\n",
       "1    2971\n",
       "Name: MultipleLines, dtype: int64"
      ]
     },
     "execution_count": 23,
     "metadata": {},
     "output_type": "execute_result"
    }
   ],
   "source": [
    "dftelco['MultipleLines'].replace('No phone service','No', inplace=True)\n",
    "dftelco['MultipleLines'] = dftelco['MultipleLines'].map(lambda s :1  if s =='Yes' else 0)\n",
    "dftelco['MultipleLines'].value_counts()"
   ]
  },
  {
   "cell_type": "code",
   "execution_count": 24,
   "metadata": {},
   "outputs": [],
   "source": [
    "dftelco['OnlineSecurity'] = dftelco['OnlineSecurity'].map(lambda s :1  if s =='Yes' else 0)\n",
    "dftelco['OnlineBackup'] = dftelco['OnlineBackup'].map(lambda s :1  if s =='Yes' else 0)\n",
    "dftelco['DeviceProtection'] = dftelco['DeviceProtection'].map(lambda s :1  if s =='Yes' else 0)\n",
    "dftelco['TechSupport'] = dftelco['TechSupport'].map(lambda s :1  if s =='Yes' else 0)\n",
    "dftelco['StreamingTV'] = dftelco['StreamingTV'].map(lambda s :1  if s =='Yes' else 0)\n",
    "dftelco['StreamingMovies'] = dftelco['StreamingMovies'].map(lambda s :1  if s =='Yes' else 0)"
   ]
  },
  {
   "cell_type": "code",
   "execution_count": 25,
   "metadata": {},
   "outputs": [
    {
     "data": {
      "text/plain": [
       "Electronic check             0.573034\n",
       "Mailed check                 0.164794\n",
       "Bank transfer (automatic)    0.138042\n",
       "Credit card (automatic)      0.124131\n",
       "Name: PaymentMethod, dtype: float64"
      ]
     },
     "execution_count": 25,
     "metadata": {},
     "output_type": "execute_result"
    }
   ],
   "source": [
    "dftelco.loc[(dftelco.Churn == 1),'PaymentMethod'].value_counts(normalize = True)\n",
    "#yang paling banyak churn electronic check"
   ]
  },
  {
   "cell_type": "code",
   "execution_count": 26,
   "metadata": {},
   "outputs": [
    {
     "data": {
      "text/plain": [
       "1    0.749064\n",
       "0    0.250936\n",
       "Name: PaperlessBilling, dtype: float64"
      ]
     },
     "execution_count": 26,
     "metadata": {},
     "output_type": "execute_result"
    }
   ],
   "source": [
    "dftelco.loc[(dftelco.Churn == 1),'PaperlessBilling'].value_counts(normalize = True)\n",
    "#yang paling banyak churn yg pakai paperlessbilling"
   ]
  },
  {
   "cell_type": "code",
   "execution_count": 27,
   "metadata": {},
   "outputs": [],
   "source": [
    "# This is categorical feature, I will use pandas function \"get_dummies\" for this feature\n",
    "\n",
    "dftelco = pd.get_dummies(data=dftelco, columns=['PaymentMethod'])"
   ]
  },
  {
   "cell_type": "code",
   "execution_count": 28,
   "metadata": {},
   "outputs": [
    {
     "data": {
      "text/html": [
       "<div>\n",
       "<style scoped>\n",
       "    .dataframe tbody tr th:only-of-type {\n",
       "        vertical-align: middle;\n",
       "    }\n",
       "\n",
       "    .dataframe tbody tr th {\n",
       "        vertical-align: top;\n",
       "    }\n",
       "\n",
       "    .dataframe thead th {\n",
       "        text-align: right;\n",
       "    }\n",
       "</style>\n",
       "<table border=\"1\" class=\"dataframe\">\n",
       "  <thead>\n",
       "    <tr style=\"text-align: right;\">\n",
       "      <th></th>\n",
       "      <th>PaymentMethod_Electronic check</th>\n",
       "      <th>PaymentMethod_Mailed check</th>\n",
       "      <th>PaymentMethod_Bank transfer (automatic)</th>\n",
       "      <th>PaymentMethod_Credit card (automatic)</th>\n",
       "    </tr>\n",
       "  </thead>\n",
       "  <tbody>\n",
       "    <tr>\n",
       "      <th>0</th>\n",
       "      <td>1</td>\n",
       "      <td>0</td>\n",
       "      <td>0</td>\n",
       "      <td>0</td>\n",
       "    </tr>\n",
       "    <tr>\n",
       "      <th>1</th>\n",
       "      <td>0</td>\n",
       "      <td>1</td>\n",
       "      <td>0</td>\n",
       "      <td>0</td>\n",
       "    </tr>\n",
       "    <tr>\n",
       "      <th>2</th>\n",
       "      <td>0</td>\n",
       "      <td>1</td>\n",
       "      <td>0</td>\n",
       "      <td>0</td>\n",
       "    </tr>\n",
       "    <tr>\n",
       "      <th>3</th>\n",
       "      <td>0</td>\n",
       "      <td>0</td>\n",
       "      <td>1</td>\n",
       "      <td>0</td>\n",
       "    </tr>\n",
       "    <tr>\n",
       "      <th>4</th>\n",
       "      <td>1</td>\n",
       "      <td>0</td>\n",
       "      <td>0</td>\n",
       "      <td>0</td>\n",
       "    </tr>\n",
       "  </tbody>\n",
       "</table>\n",
       "</div>"
      ],
      "text/plain": [
       "   PaymentMethod_Electronic check  PaymentMethod_Mailed check  \\\n",
       "0                               1                           0   \n",
       "1                               0                           1   \n",
       "2                               0                           1   \n",
       "3                               0                           0   \n",
       "4                               1                           0   \n",
       "\n",
       "   PaymentMethod_Bank transfer (automatic)  \\\n",
       "0                                        0   \n",
       "1                                        0   \n",
       "2                                        0   \n",
       "3                                        1   \n",
       "4                                        0   \n",
       "\n",
       "   PaymentMethod_Credit card (automatic)  \n",
       "0                                      0  \n",
       "1                                      0  \n",
       "2                                      0  \n",
       "3                                      0  \n",
       "4                                      0  "
      ]
     },
     "execution_count": 28,
     "metadata": {},
     "output_type": "execute_result"
    }
   ],
   "source": [
    "dftelco[['PaymentMethod_Electronic check',\n",
    "      'PaymentMethod_Mailed check',\n",
    "      'PaymentMethod_Bank transfer (automatic)',\n",
    "      'PaymentMethod_Credit card (automatic)']].head()"
   ]
  },
  {
   "cell_type": "code",
   "execution_count": 29,
   "metadata": {
    "scrolled": true
   },
   "outputs": [
    {
     "data": {
      "text/plain": [
       "Month-to-month    3875\n",
       "Two year          1695\n",
       "One year          1473\n",
       "Name: Contract, dtype: int64"
      ]
     },
     "execution_count": 29,
     "metadata": {},
     "output_type": "execute_result"
    }
   ],
   "source": [
    "# this is also categorical value, let \"get_dummies\" it\n",
    "dftelco['Contract'].value_counts()\n"
   ]
  },
  {
   "cell_type": "code",
   "execution_count": 30,
   "metadata": {},
   "outputs": [],
   "source": [
    "dftelco = pd.get_dummies(data=dftelco, columns=['Contract'])"
   ]
  },
  {
   "cell_type": "markdown",
   "metadata": {},
   "source": [
    "## Feature engineering"
   ]
  },
  {
   "cell_type": "code",
   "execution_count": 31,
   "metadata": {},
   "outputs": [
    {
     "data": {
      "text/plain": [
       "Fiber optic    3096\n",
       "DSL            2421\n",
       "No             1526\n",
       "Name: InternetService, dtype: int64"
      ]
     },
     "execution_count": 31,
     "metadata": {},
     "output_type": "execute_result"
    }
   ],
   "source": [
    "dftelco['InternetService'].value_counts()\n"
   ]
  },
  {
   "cell_type": "code",
   "execution_count": 32,
   "metadata": {},
   "outputs": [],
   "source": [
    "dftelco['Has_InternetService'] = dftelco['InternetService'].map(lambda s :0  if s =='No' else 1)\n",
    "dftelco['Fiber_optic'] = dftelco['InternetService'].map(lambda s :1  if s =='Fiber optic' else 0)\n",
    "dftelco['DSL'] = dftelco['InternetService'].map(lambda s :1  if s =='DSL' else 0)"
   ]
  },
  {
   "cell_type": "code",
   "execution_count": 33,
   "metadata": {},
   "outputs": [
    {
     "name": "stdout",
     "output_type": "stream",
     "text": [
      "1    5517\n",
      "0    1526\n",
      "Name: Has_InternetService, dtype: int64\n",
      "0    3947\n",
      "1    3096\n",
      "Name: Fiber_optic, dtype: int64\n",
      "0    4622\n",
      "1    2421\n",
      "Name: DSL, dtype: int64\n"
     ]
    }
   ],
   "source": [
    "print(dftelco['Has_InternetService'].value_counts())\n",
    "print(dftelco['Fiber_optic'].value_counts())\n",
    "print(dftelco['DSL'].value_counts())\n",
    "dftelco.drop(['InternetService'], axis=1, inplace=True)"
   ]
  },
  {
   "cell_type": "markdown",
   "metadata": {},
   "source": [
    "### Now Let's Plot variables with respect to Our Target Variable"
   ]
  },
  {
   "cell_type": "code",
   "execution_count": 34,
   "metadata": {},
   "outputs": [
    {
     "data": {
      "text/plain": [
       "Text(0.5,0,'Churn')"
      ]
     },
     "execution_count": 34,
     "metadata": {},
     "output_type": "execute_result"
    },
    {
     "data": {
      "image/png": "[encoded data removed]",
      "text/plain": [
       "<Figure size 720x432 with 1 Axes>"
      ]
     },
     "metadata": {},
     "output_type": "display_data"
    }
   ],
   "source": [
    "plt.figure(figsize=(10,6))\n",
    "ax = sns.boxplot(x='Churn', y = 'tenure', data=dftelco)\n",
    "ax.set_title('Effect of Tenure on Churn', fontsize=18)\n",
    "ax.set_ylabel('Tenure', fontsize = 15)\n",
    "ax.set_xlabel('Churn', fontsize = 15)\n",
    "\n",
    "# Company must put some extra focus on new customers having tenure over 10 months."
   ]
  },
  {
   "cell_type": "code",
   "execution_count": 35,
   "metadata": {},
   "outputs": [
    {
     "name": "stdout",
     "output_type": "stream",
     "text": [
      "Churn                       0     1   All\n",
      "Contract_Month-to-month                  \n",
      "0                        2954   214  3168\n",
      "1                        2220  1655  3875\n",
      "All                      5174  1869  7043\n",
      "Churn                 0     1   All\n",
      "Contract_One year                  \n",
      "0                  3867  1703  5570\n",
      "1                  1307   166  1473\n",
      "All                5174  1869  7043\n",
      "Churn                 0     1   All\n",
      "Contract_Two year                  \n",
      "0                  3527  1821  5348\n",
      "1                  1647    48  1695\n",
      "All                5174  1869  7043\n",
      "Percent of Month-to-Month Contract People that Left the Company 88.55002675227395\n",
      "Percent of One-Year Contract People that Left the Company 8.881754949170679\n",
      "Percent of Two-Year Contract People that Left the Company 2.568218298555377\n"
     ]
    },
    {
     "data": {
      "image/png": "[encoded data removed]",
      "text/plain": [
       "<Figure size 504x360 with 1 Axes>"
      ]
     },
     "metadata": {},
     "output_type": "display_data"
    },
    {
     "data": {
      "image/png": "[encoded data removed]",
      "text/plain": [
       "<Figure size 504x360 with 1 Axes>"
      ]
     },
     "metadata": {},
     "output_type": "display_data"
    },
    {
     "data": {
      "image/png": "[encoded data removed]",
      "text/plain": [
       "<Figure size 504x360 with 1 Axes>"
      ]
     },
     "metadata": {},
     "output_type": "display_data"
    }
   ],
   "source": [
    "# Now Let's Start Comparing.\n",
    "# contract month to month Vs Churn\n",
    "print(pd.crosstab(dftelco['Contract_Month-to-month'],dftelco['Churn'],margins=True))\n",
    "pd.crosstab(dftelco['Contract_Month-to-month'],dftelco['Churn'],margins=True).plot(kind='bar',figsize=(7,5));\n",
    "\n",
    "print(pd.crosstab(dftelco['Contract_One year'],dftelco['Churn'],margins=True))\n",
    "pd.crosstab(dftelco['Contract_One year'],dftelco['Churn'],margins=True).plot(kind='bar',figsize=(7,5));\n",
    "\n",
    "print(pd.crosstab(dftelco['Contract_Two year'],dftelco['Churn'],margins=True))\n",
    "pd.crosstab(dftelco['Contract_Two year'],dftelco['Churn'],margins=True).plot(kind='bar',figsize=(7,5));\n",
    "\n",
    "print('Percent of Month-to-Month Contract People that Left the Company {0}'.format((1655/1869)*100))\n",
    "print('Percent of One-Year Contract People that Left the Company {0}'.format((166/1869)*100)) \n",
    "print('Percent of Two-Year Contract People that Left the Company {0}'.format((48/1869)*100))     \n",
    "\n",
    "# Most of the People that Left were the Ones who had Month-to-Month Contract."
   ]
  },
  {
   "cell_type": "code",
   "execution_count": 36,
   "metadata": {},
   "outputs": [
    {
     "name": "stdout",
     "output_type": "stream",
     "text": [
      "Churn             0     1   All\n",
      "gender_Female                  \n",
      "0              2625   930  3555\n",
      "1              2549   939  3488\n",
      "All            5174  1869  7043\n",
      "Churn           0     1   All\n",
      "gender_Male                  \n",
      "0            2549   939  3488\n",
      "1            2625   930  3555\n",
      "All          5174  1869  7043\n",
      "Percent of Females that Left the Company 50.24077046548957\n",
      "Percent of Males that Left the Company 49.75922953451043\n"
     ]
    },
    {
     "data": {
      "image/png": "[encoded data removed]",
      "text/plain": [
       "<Figure size 504x360 with 1 Axes>"
      ]
     },
     "metadata": {},
     "output_type": "display_data"
    },
    {
     "data": {
      "image/png": "[encoded data removed]",
      "text/plain": [
       "<Figure size 504x360 with 1 Axes>"
      ]
     },
     "metadata": {},
     "output_type": "display_data"
    }
   ],
   "source": [
    "# Gender Vs Churn\n",
    "print(pd.crosstab(dftelco['gender_Female'],dftelco['Churn'],margins=True))\n",
    "pd.crosstab(dftelco['gender_Female'],dftelco['Churn'],margins=True).plot(kind='bar',figsize=(7,5));\n",
    "\n",
    "print(pd.crosstab(dftelco['gender_Male'],dftelco['Churn'],margins=True))\n",
    "pd.crosstab(dftelco['gender_Male'],dftelco['Churn'],margins=True).plot(kind='bar',figsize=(7,5));\n",
    "\n",
    "print('Percent of Females that Left the Company {0}'.format((939/1869)*100))\n",
    "print('Percent of Males that Left the Company {0}'.format((930/1869)*100)) \n",
    "\n"
   ]
  },
  {
   "cell_type": "code",
   "execution_count": 37,
   "metadata": {},
   "outputs": [
    {
     "name": "stdout",
     "output_type": "stream",
     "text": [
      "Churn           0     1   All\n",
      "Fiber_optic                  \n",
      "0            3375   572  3947\n",
      "1            1799  1297  3096\n",
      "All          5174  1869  7043\n",
      "Churn     0     1   All\n",
      "DSL                    \n",
      "0      3212  1410  4622\n",
      "1      1962   459  2421\n",
      "All    5174  1869  7043\n",
      "Percent of DSL Internet-Service People that Left the Company 24.558587479935795\n",
      "Percent of Fiber Optic Internet-Service People that Left the Company 69.39539860888175\n"
     ]
    },
    {
     "data": {
      "image/png": "[encoded data removed]",
      "text/plain": [
       "<Figure size 504x360 with 1 Axes>"
      ]
     },
     "metadata": {},
     "output_type": "display_data"
    },
    {
     "data": {
      "image/png": "[encoded data removed]",
      "text/plain": [
       "<Figure size 504x360 with 1 Axes>"
      ]
     },
     "metadata": {},
     "output_type": "display_data"
    }
   ],
   "source": [
    "# fiber optic , DSL Vs Churn\n",
    "# print(pd.crosstab(dftelco['Has_InternetService'],dftelco['Churn'],margins=True))\n",
    "# pd.crosstab(dftelco['Has_InternetService'],dftelco['Churn'],margins=True).plot(kind='bar',figsize=(7,5));\n",
    "\n",
    "print(pd.crosstab(dftelco['Fiber_optic'],dftelco['Churn'],margins=True))\n",
    "pd.crosstab(dftelco['Fiber_optic'],dftelco['Churn'],margins=True).plot(kind='bar',figsize=(7,5));\n",
    "\n",
    "print(pd.crosstab(dftelco['DSL'],dftelco['Churn'],margins=True))\n",
    "pd.crosstab(dftelco['DSL'],dftelco['Churn'],margins=True).plot(kind='bar',figsize=(7,5));\n",
    "\n",
    "print('Percent of DSL Internet-Service People that Left the Company {0}'.format((459/1869)*100))\n",
    "print('Percent of Fiber Optic Internet-Service People that Left the Company {0}'.format((1297/1869)*100)) \n",
    "# print('Percent of No Internet-Service People that Left the Company {0}'.format((113/1869)*100))    \n",
    "\n"
   ]
  },
  {
   "cell_type": "code",
   "execution_count": 38,
   "metadata": {},
   "outputs": [
    {
     "name": "stdout",
     "output_type": "stream",
     "text": [
      "Dependents     0     1   All\n",
      "Partner                     \n",
      "0           3280   361  3641\n",
      "1           1653  1749  3402\n",
      "All         4933  2110  7043\n",
      "Percent of Partner that had Dependents 82.8909952606635\n",
      "Percent of Non-Partner that had Dependents 17.10900473933649\n"
     ]
    },
    {
     "data": {
      "image/png": "[encoded data removed]",
      "text/plain": [
       "<Figure size 360x360 with 1 Axes>"
      ]
     },
     "metadata": {},
     "output_type": "display_data"
    }
   ],
   "source": [
    "# Partner Vs Dependents\n",
    "print(pd.crosstab(dftelco.Partner,dftelco.Dependents,margins=True))\n",
    "pd.crosstab(dftelco.Partner,dftelco.Dependents,margins=True).plot(kind='bar',figsize=(5,5));\n",
    "\n",
    "print('Percent of Partner that had Dependents {0}'.format((1749/2110)*100))\n",
    "print('Percent of Non-Partner that had Dependents {0}'.format((361/2110)*100))    \n"
   ]
  },
  {
   "cell_type": "code",
   "execution_count": 39,
   "metadata": {},
   "outputs": [
    {
     "name": "stdout",
     "output_type": "stream",
     "text": [
      "Churn       0     1   All\n",
      "Partner                  \n",
      "0        2441  1200  3641\n",
      "1        2733   669  3402\n",
      "All      5174  1869  7043\n",
      "Percent of customers who have a partner that Left the Company 35.79454253611557\n",
      "Percent of customers Non partner People that Left the Company 64.20545746388443\n"
     ]
    },
    {
     "data": {
      "image/png": "[encoded data removed]",
      "text/plain": [
       "<Figure size 576x576 with 1 Axes>"
      ]
     },
     "metadata": {},
     "output_type": "display_data"
    }
   ],
   "source": [
    "# Partner Vs Churn\n",
    "print(pd.crosstab(dftelco.Partner,dftelco.Churn,margins=True))\n",
    "pd.crosstab(dftelco.Partner,dftelco.Churn,normalize=True).plot(kind='bar');\n",
    "\n",
    "print('Percent of customers who have a partner that Left the Company {0}'.format((669/1869)*100))\n",
    "print('Percent of customers Non partner People that Left the Company {0}'.format((1200/1869)*100)) "
   ]
  },
  {
   "cell_type": "code",
   "execution_count": 40,
   "metadata": {},
   "outputs": [
    {
     "data": {
      "image/png": "[encoded data removed]",
      "text/plain": [
       "<Figure size 1224x576 with 1 Axes>"
      ]
     },
     "metadata": {},
     "output_type": "display_data"
    }
   ],
   "source": [
    "plt.figure(figsize=(17,8))\n",
    "sns.countplot(x=dftelco['tenure'],hue=dftelco.Partner);"
   ]
  },
  {
   "cell_type": "code",
   "execution_count": 41,
   "metadata": {},
   "outputs": [
    {
     "name": "stdout",
     "output_type": "stream",
     "text": [
      "Churn             0     1   All\n",
      "SeniorCitizen                  \n",
      "0              4508  1393  5901\n",
      "1               666   476  1142\n",
      "All            5174  1869  7043\n",
      "Percent of customers senior citizen that Left the Company 25.468164794007492\n",
      "Percent of customers Non senior citizen that Left the Company 74.53183520599251\n"
     ]
    },
    {
     "data": {
      "image/png": "[encoded data removed]",
      "text/plain": [
       "<Figure size 576x576 with 1 Axes>"
      ]
     },
     "metadata": {},
     "output_type": "display_data"
    }
   ],
   "source": [
    "# Senior Citizen Vs Churn\n",
    "print(pd.crosstab(dftelco.SeniorCitizen,dftelco.Churn,margins=True))\n",
    "pd.crosstab(dftelco.SeniorCitizen,dftelco.Churn,normalize=True).plot(kind='bar');\n",
    "\n",
    "print('Percent of customers senior citizen that Left the Company {0}'.format((476/1869)*100))\n",
    "print('Percent of customers Non senior citizen that Left the Company {0}'.format((1393/1869)*100)) "
   ]
  },
  {
   "cell_type": "code",
   "execution_count": 42,
   "metadata": {},
   "outputs": [
    {
     "name": "stdout",
     "output_type": "stream",
     "text": [
      "Churn            0     1   All\n",
      "PhoneService                  \n",
      "0              512   170   682\n",
      "1             4662  1699  6361\n",
      "All           5174  1869  7043\n",
      "Percent of customer that had phoneservice to churn 90.90422685928304\n",
      "Percent of customer no phoneservice to churn 9.095773140716961\n"
     ]
    },
    {
     "data": {
      "image/png": "[encoded data removed]",
      "text/plain": [
       "<Figure size 360x360 with 1 Axes>"
      ]
     },
     "metadata": {},
     "output_type": "display_data"
    }
   ],
   "source": [
    "# PhoneService vs churn\n",
    "print(pd.crosstab(dftelco.PhoneService,dftelco.Churn,margins=True))\n",
    "pd.crosstab(dftelco.PhoneService,dftelco.Churn,margins=True).plot(kind='bar',figsize=(5,5));\n",
    "\n",
    "print('Percent of customer that had phoneservice to churn {0}'.format((1699/1869)*100))\n",
    "print('Percent of customer no phoneservice to churn {0}'.format((170/1869)*100))"
   ]
  },
  {
   "cell_type": "code",
   "execution_count": 43,
   "metadata": {},
   "outputs": [
    {
     "name": "stdout",
     "output_type": "stream",
     "text": [
      "Churn              0     1   All\n",
      "OnlineSecurity                  \n",
      "0               3450  1574  5024\n",
      "1               1724   295  2019\n",
      "All             5174  1869  7043\n",
      "Percent of customer that had OnlineSecurity to churn 15.783841626538257\n",
      "Percent of customer no having OnlineSecurity to churn 84.21615837346175\n"
     ]
    },
    {
     "data": {
      "image/png": "[encoded data removed]",
      "text/plain": [
       "<Figure size 360x360 with 1 Axes>"
      ]
     },
     "metadata": {},
     "output_type": "display_data"
    }
   ],
   "source": [
    "# g = sns.factorplot(y=\"OnlineSecurity\",x=\"Churn\",data=dftelco,kind=\"bar\" ,palette = \"Pastel1\")\n",
    "\n",
    "print(pd.crosstab(dftelco.OnlineSecurity,dftelco.Churn,margins=True))\n",
    "pd.crosstab(dftelco.OnlineSecurity,dftelco.Churn,margins=True).plot(kind='bar',figsize=(5,5));\n",
    "\n",
    "print('Percent of customer that had OnlineSecurity to churn {0}'.format((295/1869)*100))\n",
    "print('Percent of customer no having OnlineSecurity to churn {0}'.format((1574  /1869)*100))"
   ]
  },
  {
   "cell_type": "code",
   "execution_count": 44,
   "metadata": {},
   "outputs": [
    {
     "name": "stdout",
     "output_type": "stream",
     "text": [
      "Churn           0     1   All\n",
      "StreamingTV                  \n",
      "0            3281  1055  4336\n",
      "1            1893   814  2707\n",
      "All          5174  1869  7043\n",
      "Churn               0     1   All\n",
      "StreamingMovies                  \n",
      "0                3260  1051  4311\n",
      "1                1914   818  2732\n",
      "All              5174  1869  7043\n",
      "Percent of Churn ratio for people having StreamingTV service 43.55270197966827\n",
      "Percent of Churn ratio for people no having StreamingTV service 56.44729802033173\n",
      "Percent of Churn ratio for people having StreamingMovies service 43.76672017121455\n",
      "Percent of Churn ratio for people no having StreamingMovies service 56.23327982878544\n"
     ]
    },
    {
     "data": {
      "image/png": "[encoded data removed]",
      "text/plain": [
       "<Figure size 360x360 with 1 Axes>"
      ]
     },
     "metadata": {},
     "output_type": "display_data"
    },
    {
     "data": {
      "image/png": "[encoded data removed]",
      "text/plain": [
       "<Figure size 360x360 with 1 Axes>"
      ]
     },
     "metadata": {},
     "output_type": "display_data"
    }
   ],
   "source": [
    "# StreamingTV vs churn\n",
    "print(pd.crosstab(dftelco.StreamingTV,dftelco.Churn,margins=True))\n",
    "pd.crosstab(dftelco.StreamingTV,dftelco.Churn,margins=True).plot(kind='bar',figsize=(5,5));\n",
    "\n",
    "# Streamingmovie vs churn\n",
    "print(pd.crosstab(dftelco.StreamingMovies,dftelco.Churn,margins=True))\n",
    "pd.crosstab(dftelco.StreamingMovies,dftelco.Churn,margins=True).plot(kind='bar',figsize=(5,5));\n",
    "\n",
    "print('Percent of Churn ratio for people having StreamingTV service {0}'.format((814/1869)*100))\n",
    "print('Percent of Churn ratio for people no having StreamingTV service {0}'.format((1055/1869)*100))\n",
    "print('Percent of Churn ratio for people having StreamingMovies service {0}'.format((818/1869)*100))\n",
    "print('Percent of Churn ratio for people no having StreamingMovies service {0}'.format((1051/1869)*100))"
   ]
  },
  {
   "cell_type": "code",
   "execution_count": 45,
   "metadata": {},
   "outputs": [
    {
     "name": "stdout",
     "output_type": "stream",
     "text": [
      "Churn           0     1   All\n",
      "TechSupport                  \n",
      "0            3440  1559  4999\n",
      "1            1734   310  2044\n",
      "All          5174  1869  7043\n",
      "Percent of Churn ratio for customer having TechSupport 16.586409844836812\n",
      "Percent of Churn ratio for customer not having TechSupport 83.41359015516319\n"
     ]
    },
    {
     "data": {
      "image/png": "[encoded data removed]",
      "text/plain": [
       "<Figure size 360x360 with 1 Axes>"
      ]
     },
     "metadata": {},
     "output_type": "display_data"
    }
   ],
   "source": [
    "#Tech support vs Churn\n",
    "print(pd.crosstab(dftelco.TechSupport,dftelco.Churn,margins=True))\n",
    "pd.crosstab(dftelco.TechSupport,dftelco.Churn,margins=True).plot(kind='bar',figsize=(5,5));\n",
    "\n",
    "print('Percent of Churn ratio for customer having TechSupport {0}'.format((310/1869)*100))\n",
    "print('Percent of Churn ratio for customer not having TechSupport {0}'.format((1559/1869)*100))\n",
    "\n"
   ]
  },
  {
   "cell_type": "code",
   "execution_count": 46,
   "metadata": {},
   "outputs": [
    {
     "name": "stdout",
     "output_type": "stream",
     "text": [
      "Churn                0     1   All\n",
      "DeviceProtection                  \n",
      "0                 3297  1324  4621\n",
      "1                 1877   545  2422\n",
      "All               5174  1869  7043\n",
      "Percent of Churn ratio for customer having DeviceProtection 29.159978598180846\n",
      "Percent of Churn ratio for customer not having DeviceProtection 70.84002140181916\n"
     ]
    },
    {
     "data": {
      "image/png": "[encoded data removed]",
      "text/plain": [
       "<Figure size 360x360 with 1 Axes>"
      ]
     },
     "metadata": {},
     "output_type": "display_data"
    }
   ],
   "source": [
    "#DeviceProtection vs churn \n",
    "\n",
    "print(pd.crosstab(dftelco.DeviceProtection,dftelco.Churn,margins=True))\n",
    "pd.crosstab(dftelco.DeviceProtection,dftelco.Churn,margins=True).plot(kind='bar',figsize=(5,5));\n",
    "\n",
    "print('Percent of Churn ratio for customer having DeviceProtection {0}'.format((545/1869)*100))\n",
    "print('Percent of Churn ratio for customer not having DeviceProtection {0}'.format((1324/1869)*100))\n"
   ]
  },
  {
   "cell_type": "code",
   "execution_count": 47,
   "metadata": {},
   "outputs": [
    {
     "name": "stdout",
     "output_type": "stream",
     "text": [
      "Churn                              0     1   All\n",
      "PaymentMethod_Electronic check                  \n",
      "0                               3880   798  4678\n",
      "1                               1294  1071  2365\n",
      "All                             5174  1869  7043\n",
      "Churn                          0     1   All\n",
      "PaymentMethod_Mailed check                  \n",
      "0                           3870  1561  5431\n",
      "1                           1304   308  1612\n",
      "All                         5174  1869  7043\n",
      "Churn                                       0     1   All\n",
      "PaymentMethod_Bank transfer (automatic)                  \n",
      "0                                        3888  1611  5499\n",
      "1                                        1286   258  1544\n",
      "All                                      5174  1869  7043\n",
      "Churn                                     0     1   All\n",
      "PaymentMethod_Credit card (automatic)                  \n",
      "0                                      3884  1637  5521\n",
      "1                                      1290   232  1522\n",
      "All                                    5174  1869  7043\n",
      "Percent of Churn ratio for customer paying bills via Electronic check 57.30337078651685\n",
      "Percent of Churn ratio for customer paying bills via Mailed check  16.479400749063668\n",
      "Percent of Churn ratio for customer paying bills via Bank transfer  13.804173354735152\n",
      "Percent of Churn ratio for customer paying bills via Credit card  12.413055109684324\n"
     ]
    },
    {
     "data": {
      "image/png": "[encoded data removed]",
      "text/plain": [
       "<Figure size 504x360 with 1 Axes>"
      ]
     },
     "metadata": {},
     "output_type": "display_data"
    },
    {
     "data": {
      "image/png": "[encoded data removed]",
      "text/plain": [
       "<Figure size 504x360 with 1 Axes>"
      ]
     },
     "metadata": {},
     "output_type": "display_data"
    },
    {
     "data": {
      "image/png": "[encoded data removed]",
      "text/plain": [
       "<Figure size 504x360 with 1 Axes>"
      ]
     },
     "metadata": {},
     "output_type": "display_data"
    },
    {
     "data": {
      "image/png": "[encoded data removed]",
      "text/plain": [
       "<Figure size 504x360 with 1 Axes>"
      ]
     },
     "metadata": {},
     "output_type": "display_data"
    }
   ],
   "source": [
    "# PaymentMethod_Electronic check\n",
    "\n",
    "print(pd.crosstab(dftelco['PaymentMethod_Electronic check'],dftelco['Churn'],margins=True))\n",
    "pd.crosstab(dftelco['PaymentMethod_Electronic check'],dftelco['Churn'],margins=True).plot(kind='bar',figsize=(7,5));\n",
    "\n",
    "print(pd.crosstab(dftelco['PaymentMethod_Mailed check'],dftelco['Churn'],margins=True))\n",
    "pd.crosstab(dftelco['PaymentMethod_Mailed check'],dftelco['Churn'],margins=True).plot(kind='bar',figsize=(7,5));\n",
    "\n",
    "print(pd.crosstab(dftelco['PaymentMethod_Bank transfer (automatic)'],dftelco['Churn'],margins=True))\n",
    "pd.crosstab(dftelco['PaymentMethod_Bank transfer (automatic)'],dftelco['Churn'],margins=True).plot(kind='bar',figsize=(7,5));\n",
    "\n",
    "print(pd.crosstab(dftelco['PaymentMethod_Credit card (automatic)'],dftelco['Churn'],margins=True))\n",
    "pd.crosstab(dftelco['PaymentMethod_Credit card (automatic)'],dftelco['Churn'],margins=True).plot(kind='bar',figsize=(7,5));\n",
    "\n",
    "print('Percent of Churn ratio for customer paying bills via Electronic check {0}'.format((1071/1869)*100))\n",
    "print('Percent of Churn ratio for customer paying bills via Mailed check  {0}'.format((308/1869)*100))\n",
    "print('Percent of Churn ratio for customer paying bills via Bank transfer  {0}'.format((258/1869)*100))\n",
    "print('Percent of Churn ratio for customer paying bills via Credit card  {0}'.format((232/1869)*100))"
   ]
  },
  {
   "cell_type": "code",
   "execution_count": 48,
   "metadata": {},
   "outputs": [
    {
     "name": "stdout",
     "output_type": "stream",
     "text": [
      "Churn                0     1   All\n",
      "PaperlessBilling                  \n",
      "0                 2403   469  2872\n",
      "1                 2771  1400  4171\n",
      "All               5174  1869  7043\n",
      "Percent of Churn ratio for customer with PaperlessBilling 74.90636704119851\n"
     ]
    },
    {
     "data": {
      "image/png": "[encoded data removed]",
      "text/plain": [
       "<Figure size 504x360 with 1 Axes>"
      ]
     },
     "metadata": {},
     "output_type": "display_data"
    }
   ],
   "source": [
    "#paperlessbilling vs churn\n",
    "print(pd.crosstab(dftelco['PaperlessBilling'],dftelco['Churn'],margins=True))\n",
    "pd.crosstab(dftelco['PaperlessBilling'],dftelco['Churn'],margins=True).plot(kind='bar',figsize=(7,5));\n",
    "\n",
    "print('Percent of Churn ratio for customer with PaperlessBilling {0}'.format((1400/1869)*100))"
   ]
  },
  {
   "cell_type": "code",
   "execution_count": 49,
   "metadata": {},
   "outputs": [
    {
     "data": {
      "image/png": "[encoded data removed]",
      "text/plain": [
       "<Figure size 360x360 with 1 Axes>"
      ]
     },
     "metadata": {},
     "output_type": "display_data"
    }
   ],
   "source": [
    "# g = sns.factorplot(x=\"Churn\", y = \"MonthlyCharges\",data = dftelco, kind=\"box\", palette = \"Pastel1\")\n",
    "g = sns.factorplot(x=\"Churn\", y = \"MonthlyCharges\",data = dftelco, kind=\"bar\", palette = \"Pastel1\")\n",
    "\n"
   ]
  },
  {
   "cell_type": "code",
   "execution_count": 50,
   "metadata": {},
   "outputs": [
    {
     "data": {
      "image/png": "[encoded data removed]",
      "text/plain": [
       "<Figure size 360x360 with 1 Axes>"
      ]
     },
     "metadata": {},
     "output_type": "display_data"
    }
   ],
   "source": [
    "g = sns.factorplot(y=\"TotalCharges\",x=\"Churn\",data=dftelco,kind=\"bar\" ,palette = \"Pastel1\")\n",
    "\n",
    "# In range of 2500 to 8000, population of loyalty customer is around twice as amount as churn customer."
   ]
  },
  {
   "cell_type": "code",
   "execution_count": 51,
   "metadata": {},
   "outputs": [
    {
     "name": "stdout",
     "output_type": "stream",
     "text": [
      "Churn             0     1   All\n",
      "MultipleLines                  \n",
      "0              3053  1019  4072\n",
      "1              2121   850  2971\n",
      "All            5174  1869  7043\n",
      "Percent of Churn ratio for customer with MultipleLines 45.4788657035848\n",
      "Percent of Churn ratio for customer without MultipleLines 54.5211342964152\n"
     ]
    },
    {
     "data": {
      "image/png": "[encoded data removed]",
      "text/plain": [
       "<Figure size 504x360 with 1 Axes>"
      ]
     },
     "metadata": {},
     "output_type": "display_data"
    }
   ],
   "source": [
    "print(pd.crosstab(dftelco['MultipleLines'],dftelco['Churn'],margins=True))\n",
    "pd.crosstab(dftelco['MultipleLines'],dftelco['Churn'],margins=True).plot(kind='bar',figsize=(7,5));\n",
    "\n",
    "print('Percent of Churn ratio for customer with MultipleLines {0}'.format((850/1869)*100))\n",
    "print('Percent of Churn ratio for customer without MultipleLines {0}'.format((1019/1869)*100))"
   ]
  },
  {
   "cell_type": "code",
   "execution_count": 52,
   "metadata": {},
   "outputs": [],
   "source": [
    "# dftelco[['MonthlyCharges', 'TotalCharges']].plot.scatter(x = 'MonthlyCharges',\n",
    "#                                                               y='TotalCharges')"
   ]
  },
  {
   "cell_type": "code",
   "execution_count": 53,
   "metadata": {},
   "outputs": [
    {
     "name": "stdout",
     "output_type": "stream",
     "text": [
      "<class 'pandas.core.frame.DataFrame'>\n",
      "RangeIndex: 7043 entries, 0 to 7042\n",
      "Data columns (total 28 columns):\n",
      "SeniorCitizen                              7043 non-null int64\n",
      "Partner                                    7043 non-null int64\n",
      "Dependents                                 7043 non-null int64\n",
      "tenure                                     7043 non-null int64\n",
      "PhoneService                               7043 non-null int64\n",
      "MultipleLines                              7043 non-null int64\n",
      "OnlineSecurity                             7043 non-null int64\n",
      "OnlineBackup                               7043 non-null int64\n",
      "DeviceProtection                           7043 non-null int64\n",
      "TechSupport                                7043 non-null int64\n",
      "StreamingTV                                7043 non-null int64\n",
      "StreamingMovies                            7043 non-null int64\n",
      "PaperlessBilling                           7043 non-null int64\n",
      "MonthlyCharges                             7043 non-null float64\n",
      "TotalCharges                               7043 non-null float64\n",
      "Churn                                      7043 non-null int64\n",
      "gender_Female                              7043 non-null uint8\n",
      "gender_Male                                7043 non-null uint8\n",
      "PaymentMethod_Bank transfer (automatic)    7043 non-null uint8\n",
      "PaymentMethod_Credit card (automatic)      7043 non-null uint8\n",
      "PaymentMethod_Electronic check             7043 non-null uint8\n",
      "PaymentMethod_Mailed check                 7043 non-null uint8\n",
      "Contract_Month-to-month                    7043 non-null uint8\n",
      "Contract_One year                          7043 non-null uint8\n",
      "Contract_Two year                          7043 non-null uint8\n",
      "Has_InternetService                        7043 non-null int64\n",
      "Fiber_optic                                7043 non-null int64\n",
      "DSL                                        7043 non-null int64\n",
      "dtypes: float64(2), int64(17), uint8(9)\n",
      "memory usage: 1.1 MB\n"
     ]
    }
   ],
   "source": [
    "dftelco.info()"
   ]
  },
  {
   "cell_type": "code",
   "execution_count": 54,
   "metadata": {},
   "outputs": [
    {
     "data": {
      "text/html": [
       "<div>\n",
       "<style scoped>\n",
       "    .dataframe tbody tr th:only-of-type {\n",
       "        vertical-align: middle;\n",
       "    }\n",
       "\n",
       "    .dataframe tbody tr th {\n",
       "        vertical-align: top;\n",
       "    }\n",
       "\n",
       "    .dataframe thead th {\n",
       "        text-align: right;\n",
       "    }\n",
       "</style>\n",
       "<table border=\"1\" class=\"dataframe\">\n",
       "  <thead>\n",
       "    <tr style=\"text-align: right;\">\n",
       "      <th></th>\n",
       "      <th>SeniorCitizen</th>\n",
       "      <th>Partner</th>\n",
       "      <th>Dependents</th>\n",
       "      <th>tenure</th>\n",
       "      <th>PhoneService</th>\n",
       "      <th>MultipleLines</th>\n",
       "      <th>OnlineSecurity</th>\n",
       "      <th>OnlineBackup</th>\n",
       "      <th>DeviceProtection</th>\n",
       "      <th>TechSupport</th>\n",
       "      <th>...</th>\n",
       "      <th>PaymentMethod_Bank transfer (automatic)</th>\n",
       "      <th>PaymentMethod_Credit card (automatic)</th>\n",
       "      <th>PaymentMethod_Electronic check</th>\n",
       "      <th>PaymentMethod_Mailed check</th>\n",
       "      <th>Contract_Month-to-month</th>\n",
       "      <th>Contract_One year</th>\n",
       "      <th>Contract_Two year</th>\n",
       "      <th>Has_InternetService</th>\n",
       "      <th>Fiber_optic</th>\n",
       "      <th>DSL</th>\n",
       "    </tr>\n",
       "  </thead>\n",
       "  <tbody>\n",
       "    <tr>\n",
       "      <th>0</th>\n",
       "      <td>0</td>\n",
       "      <td>1</td>\n",
       "      <td>0</td>\n",
       "      <td>1</td>\n",
       "      <td>0</td>\n",
       "      <td>0</td>\n",
       "      <td>0</td>\n",
       "      <td>1</td>\n",
       "      <td>0</td>\n",
       "      <td>0</td>\n",
       "      <td>...</td>\n",
       "      <td>0</td>\n",
       "      <td>0</td>\n",
       "      <td>1</td>\n",
       "      <td>0</td>\n",
       "      <td>1</td>\n",
       "      <td>0</td>\n",
       "      <td>0</td>\n",
       "      <td>1</td>\n",
       "      <td>0</td>\n",
       "      <td>1</td>\n",
       "    </tr>\n",
       "    <tr>\n",
       "      <th>1</th>\n",
       "      <td>0</td>\n",
       "      <td>0</td>\n",
       "      <td>0</td>\n",
       "      <td>34</td>\n",
       "      <td>1</td>\n",
       "      <td>0</td>\n",
       "      <td>1</td>\n",
       "      <td>0</td>\n",
       "      <td>1</td>\n",
       "      <td>0</td>\n",
       "      <td>...</td>\n",
       "      <td>0</td>\n",
       "      <td>0</td>\n",
       "      <td>0</td>\n",
       "      <td>1</td>\n",
       "      <td>0</td>\n",
       "      <td>1</td>\n",
       "      <td>0</td>\n",
       "      <td>1</td>\n",
       "      <td>0</td>\n",
       "      <td>1</td>\n",
       "    </tr>\n",
       "    <tr>\n",
       "      <th>2</th>\n",
       "      <td>0</td>\n",
       "      <td>0</td>\n",
       "      <td>0</td>\n",
       "      <td>2</td>\n",
       "      <td>1</td>\n",
       "      <td>0</td>\n",
       "      <td>1</td>\n",
       "      <td>1</td>\n",
       "      <td>0</td>\n",
       "      <td>0</td>\n",
       "      <td>...</td>\n",
       "      <td>0</td>\n",
       "      <td>0</td>\n",
       "      <td>0</td>\n",
       "      <td>1</td>\n",
       "      <td>1</td>\n",
       "      <td>0</td>\n",
       "      <td>0</td>\n",
       "      <td>1</td>\n",
       "      <td>0</td>\n",
       "      <td>1</td>\n",
       "    </tr>\n",
       "    <tr>\n",
       "      <th>3</th>\n",
       "      <td>0</td>\n",
       "      <td>0</td>\n",
       "      <td>0</td>\n",
       "      <td>45</td>\n",
       "      <td>0</td>\n",
       "      <td>0</td>\n",
       "      <td>1</td>\n",
       "      <td>0</td>\n",
       "      <td>1</td>\n",
       "      <td>1</td>\n",
       "      <td>...</td>\n",
       "      <td>1</td>\n",
       "      <td>0</td>\n",
       "      <td>0</td>\n",
       "      <td>0</td>\n",
       "      <td>0</td>\n",
       "      <td>1</td>\n",
       "      <td>0</td>\n",
       "      <td>1</td>\n",
       "      <td>0</td>\n",
       "      <td>1</td>\n",
       "    </tr>\n",
       "    <tr>\n",
       "      <th>4</th>\n",
       "      <td>0</td>\n",
       "      <td>0</td>\n",
       "      <td>0</td>\n",
       "      <td>2</td>\n",
       "      <td>1</td>\n",
       "      <td>0</td>\n",
       "      <td>0</td>\n",
       "      <td>0</td>\n",
       "      <td>0</td>\n",
       "      <td>0</td>\n",
       "      <td>...</td>\n",
       "      <td>0</td>\n",
       "      <td>0</td>\n",
       "      <td>1</td>\n",
       "      <td>0</td>\n",
       "      <td>1</td>\n",
       "      <td>0</td>\n",
       "      <td>0</td>\n",
       "      <td>1</td>\n",
       "      <td>1</td>\n",
       "      <td>0</td>\n",
       "    </tr>\n",
       "  </tbody>\n",
       "</table>\n",
       "<p>5 rows × 28 columns</p>\n",
       "</div>"
      ],
      "text/plain": [
       "   SeniorCitizen  Partner  Dependents  tenure  PhoneService  MultipleLines  \\\n",
       "0              0        1           0       1             0              0   \n",
       "1              0        0           0      34             1              0   \n",
       "2              0        0           0       2             1              0   \n",
       "3              0        0           0      45             0              0   \n",
       "4              0        0           0       2             1              0   \n",
       "\n",
       "   OnlineSecurity  OnlineBackup  DeviceProtection  TechSupport ...   \\\n",
       "0               0             1                 0            0 ...    \n",
       "1               1             0                 1            0 ...    \n",
       "2               1             1                 0            0 ...    \n",
       "3               1             0                 1            1 ...    \n",
       "4               0             0                 0            0 ...    \n",
       "\n",
       "   PaymentMethod_Bank transfer (automatic)  \\\n",
       "0                                        0   \n",
       "1                                        0   \n",
       "2                                        0   \n",
       "3                                        1   \n",
       "4                                        0   \n",
       "\n",
       "   PaymentMethod_Credit card (automatic)  PaymentMethod_Electronic check  \\\n",
       "0                                      0                               1   \n",
       "1                                      0                               0   \n",
       "2                                      0                               0   \n",
       "3                                      0                               0   \n",
       "4                                      0                               1   \n",
       "\n",
       "   PaymentMethod_Mailed check  Contract_Month-to-month  Contract_One year  \\\n",
       "0                           0                        1                  0   \n",
       "1                           1                        0                  1   \n",
       "2                           1                        1                  0   \n",
       "3                           0                        0                  1   \n",
       "4                           0                        1                  0   \n",
       "\n",
       "   Contract_Two year  Has_InternetService  Fiber_optic  DSL  \n",
       "0                  0                    1            0    1  \n",
       "1                  0                    1            0    1  \n",
       "2                  0                    1            0    1  \n",
       "3                  0                    1            0    1  \n",
       "4                  0                    1            1    0  \n",
       "\n",
       "[5 rows x 28 columns]"
      ]
     },
     "execution_count": 54,
     "metadata": {},
     "output_type": "execute_result"
    }
   ],
   "source": [
    "dftelco.head()"
   ]
  },
  {
   "cell_type": "markdown",
   "metadata": {},
   "source": [
    "## import file test"
   ]
  },
  {
   "cell_type": "code",
   "execution_count": 55,
   "metadata": {},
   "outputs": [],
   "source": [
    "data =dftelco.drop(['Churn'],axis=1)\n",
    "target =dftelco['Churn']"
   ]
  },
  {
   "cell_type": "code",
   "execution_count": 56,
   "metadata": {},
   "outputs": [],
   "source": [
    "from sklearn.model_selection import train_test_split\n",
    "X_train, X_test, y_train, y_test = train_test_split(data,target,\n",
    "                                                    test_size=0.30, \n",
    "                                                    random_state=101)"
   ]
  },
  {
   "cell_type": "code",
   "execution_count": 57,
   "metadata": {},
   "outputs": [],
   "source": [
    "from sklearn.metrics import classification_report, matthews_corrcoef, roc_auc_score, confusion_matrix, accuracy_score, roc_curve, auc"
   ]
  },
  {
   "cell_type": "markdown",
   "metadata": {},
   "source": [
    "## CreatingModel & Evaluate"
   ]
  },
  {
   "cell_type": "markdown",
   "metadata": {},
   "source": [
    "## SMOTE"
   ]
  },
  {
   "cell_type": "code",
   "execution_count": 58,
   "metadata": {},
   "outputs": [],
   "source": [
    "from imblearn.over_sampling import RandomOverSampler,SMOTE"
   ]
  },
  {
   "cell_type": "code",
   "execution_count": 59,
   "metadata": {},
   "outputs": [
    {
     "data": {
      "text/plain": [
       "0    3628\n",
       "1    1302\n",
       "Name: Churn, dtype: int64"
      ]
     },
     "execution_count": 59,
     "metadata": {},
     "output_type": "execute_result"
    }
   ],
   "source": [
    "y_train.value_counts()"
   ]
  },
  {
   "cell_type": "code",
   "execution_count": 60,
   "metadata": {},
   "outputs": [],
   "source": [
    "smot = SMOTE(random_state=101)"
   ]
  },
  {
   "cell_type": "code",
   "execution_count": 61,
   "metadata": {},
   "outputs": [],
   "source": [
    "X_smot,y_smot = smot.fit_sample(X_train, y_train)"
   ]
  },
  {
   "cell_type": "code",
   "execution_count": 62,
   "metadata": {},
   "outputs": [
    {
     "data": {
      "text/plain": [
       "1    3628\n",
       "0    3628\n",
       "dtype: int64"
      ]
     },
     "execution_count": 62,
     "metadata": {},
     "output_type": "execute_result"
    }
   ],
   "source": [
    "pd.Series(y_smot).value_counts()"
   ]
  },
  {
   "cell_type": "markdown",
   "metadata": {},
   "source": [
    "## Oversampling"
   ]
  },
  {
   "cell_type": "code",
   "execution_count": 63,
   "metadata": {},
   "outputs": [],
   "source": [
    "ros = RandomOverSampler(random_state=101)"
   ]
  },
  {
   "cell_type": "code",
   "execution_count": 64,
   "metadata": {},
   "outputs": [],
   "source": [
    "X_ros,y_ros = ros.fit_sample(X_train, y_train)"
   ]
  },
  {
   "cell_type": "code",
   "execution_count": 65,
   "metadata": {},
   "outputs": [],
   "source": [
    "# rfc.fit(X_ros,y_ros)"
   ]
  },
  {
   "cell_type": "code",
   "execution_count": 66,
   "metadata": {},
   "outputs": [
    {
     "data": {
      "text/plain": [
       "0    3628\n",
       "1    1302\n",
       "Name: Churn, dtype: int64"
      ]
     },
     "execution_count": 66,
     "metadata": {},
     "output_type": "execute_result"
    }
   ],
   "source": [
    "pd.Series(y_train).value_counts()"
   ]
  },
  {
   "cell_type": "code",
   "execution_count": 67,
   "metadata": {},
   "outputs": [
    {
     "data": {
      "text/plain": [
       "1    3628\n",
       "0    3628\n",
       "dtype: int64"
      ]
     },
     "execution_count": 67,
     "metadata": {},
     "output_type": "execute_result"
    }
   ],
   "source": [
    "pd.Series(y_ros).value_counts()"
   ]
  },
  {
   "cell_type": "markdown",
   "metadata": {},
   "source": [
    "## Gridsearch"
   ]
  },
  {
   "cell_type": "code",
   "execution_count": 68,
   "metadata": {},
   "outputs": [],
   "source": [
    "from sklearn.model_selection import GridSearchCV\n",
    "from xgboost import XGBClassifier"
   ]
  },
  {
   "cell_type": "code",
   "execution_count": 69,
   "metadata": {},
   "outputs": [],
   "source": [
    "# parameters = {'class_weight':({0:1, 1:5},{0:1, 1:6},{0:1, 1:7}), \n",
    "#                'min_samples_leaf': (13,12,10),\n",
    "#                'min_samples_split': (30,28,27)} \n",
    "# # bisa(20,15,17)\n",
    "# # rfc = RandomForestClassifier(n_estimators=100,random_state=101) \n",
    "# classifier = XGBClassifier()   \n",
    "# dt = GridSearchCV(rfc,parameters,\n",
    "#                   scoring=['roc_auc','precision'],\n",
    "#                   refit='precision',cv=5)\n",
    "# dt.fit(X_train, y_train)\n",
    "# dt.best_estimator_"
   ]
  },
  {
   "cell_type": "markdown",
   "metadata": {},
   "source": [
    "## Random Forest"
   ]
  },
  {
   "cell_type": "code",
   "execution_count": 70,
   "metadata": {},
   "outputs": [],
   "source": [
    "from sklearn.ensemble import RandomForestClassifier"
   ]
  },
  {
   "cell_type": "code",
   "execution_count": 71,
   "metadata": {},
   "outputs": [],
   "source": [
    "rfc = RandomForestClassifier(n_estimators=100)\n"
   ]
  },
  {
   "cell_type": "code",
   "execution_count": 72,
   "metadata": {},
   "outputs": [
    {
     "data": {
      "text/plain": [
       "RandomForestClassifier(bootstrap=True, class_weight=None, criterion='gini',\n",
       "            max_depth=None, max_features='auto', max_leaf_nodes=None,\n",
       "            min_impurity_decrease=0.0, min_impurity_split=None,\n",
       "            min_samples_leaf=1, min_samples_split=2,\n",
       "            min_weight_fraction_leaf=0.0, n_estimators=100, n_jobs=None,\n",
       "            oob_score=False, random_state=None, verbose=0,\n",
       "            warm_start=False)"
      ]
     },
     "execution_count": 72,
     "metadata": {},
     "output_type": "execute_result"
    }
   ],
   "source": [
    "rfc.fit(X_ros,y_ros)\n",
    "\n"
   ]
  },
  {
   "cell_type": "code",
   "execution_count": 73,
   "metadata": {},
   "outputs": [],
   "source": [
    "from sklearn.metrics import classification_report,matthews_corrcoef,roc_auc_score,confusion_matrix,accuracy_score,roc_curve,auc"
   ]
  },
  {
   "cell_type": "code",
   "execution_count": 74,
   "metadata": {},
   "outputs": [],
   "source": [
    "predict= rfc.predict(X_test)\n",
    "predictProb=rfc.predict_proba(X_test)"
   ]
  },
  {
   "cell_type": "code",
   "execution_count": 75,
   "metadata": {},
   "outputs": [
    {
     "name": "stdout",
     "output_type": "stream",
     "text": [
      "[[1310  236]\n",
      " [ 253  314]]\n",
      "              precision    recall  f1-score   support\n",
      "\n",
      "           0       0.84      0.85      0.84      1546\n",
      "           1       0.57      0.55      0.56       567\n",
      "\n",
      "   micro avg       0.77      0.77      0.77      2113\n",
      "   macro avg       0.70      0.70      0.70      2113\n",
      "weighted avg       0.77      0.77      0.77      2113\n",
      "\n",
      "ROC AUC Score =0.8133922439657669\n",
      "Accuracy : 0.7685754850922859\n",
      "Matthews Corr_coef : 0.40507112192753275\n"
     ]
    }
   ],
   "source": [
    "print(confusion_matrix(y_test, predict))\n",
    "print(classification_report(y_test, predict))\n",
    "print('ROC AUC Score =' +str(roc_auc_score(y_test,predictProb[:,1])))\n",
    "print('Accuracy :',accuracy_score(y_test,predict))\n",
    "print('Matthews Corr_coef :',matthews_corrcoef(y_test,predict))"
   ]
  },
  {
   "cell_type": "code",
   "execution_count": 76,
   "metadata": {},
   "outputs": [
    {
     "data": {
      "text/plain": [
       "<matplotlib.axes._subplots.AxesSubplot at 0x2393cd57780>"
      ]
     },
     "execution_count": 76,
     "metadata": {},
     "output_type": "execute_result"
    },
    {
     "data": {
      "image/png": "[encoded data removed]",
      "text/plain": [
       "<Figure size 576x576 with 1 Axes>"
      ]
     },
     "metadata": {},
     "output_type": "display_data"
    }
   ],
   "source": [
    "coef1 = pd.Series(rfc.feature_importances_, X_train.columns).sort_values(ascending = False).head(10)\n",
    "coef1.plot(kind='bar', title='Feature Importances')"
   ]
  },
  {
   "cell_type": "markdown",
   "metadata": {},
   "source": [
    "## Logistic Regression"
   ]
  },
  {
   "cell_type": "code",
   "execution_count": 77,
   "metadata": {},
   "outputs": [],
   "source": [
    "from sklearn.linear_model import LogisticRegression"
   ]
  },
  {
   "cell_type": "code",
   "execution_count": 78,
   "metadata": {},
   "outputs": [
    {
     "data": {
      "text/plain": [
       "LogisticRegression(C=1.0, class_weight=None, dual=False, fit_intercept=True,\n",
       "          intercept_scaling=1, max_iter=100, multi_class='warn',\n",
       "          n_jobs=None, penalty='l2', random_state=None, solver='warn',\n",
       "          tol=0.0001, verbose=0, warm_start=False)"
      ]
     },
     "execution_count": 78,
     "metadata": {},
     "output_type": "execute_result"
    }
   ],
   "source": [
    "logmodel = LogisticRegression()\n",
    "logmodel.fit(X_ros,y_ros)"
   ]
  },
  {
   "cell_type": "code",
   "execution_count": 79,
   "metadata": {},
   "outputs": [],
   "source": [
    "predictions = logmodel.predict(X_test)"
   ]
  },
  {
   "cell_type": "code",
   "execution_count": 80,
   "metadata": {},
   "outputs": [],
   "source": [
    "from sklearn.metrics import classification_report"
   ]
  },
  {
   "cell_type": "code",
   "execution_count": 81,
   "metadata": {},
   "outputs": [
    {
     "name": "stdout",
     "output_type": "stream",
     "text": [
      "              precision    recall  f1-score   support\n",
      "\n",
      "           0       0.91      0.74      0.81      1546\n",
      "           1       0.52      0.80      0.63       567\n",
      "\n",
      "   micro avg       0.75      0.75      0.75      2113\n",
      "   macro avg       0.72      0.77      0.72      2113\n",
      "weighted avg       0.80      0.75      0.76      2113\n",
      "\n"
     ]
    }
   ],
   "source": [
    "print(classification_report(y_test,predictions))"
   ]
  },
  {
   "cell_type": "markdown",
   "metadata": {},
   "source": [
    "## Gradien Boosting"
   ]
  },
  {
   "cell_type": "code",
   "execution_count": 82,
   "metadata": {},
   "outputs": [
    {
     "data": {
      "text/plain": [
       "GradientBoostingClassifier(criterion='friedman_mse', init=None,\n",
       "              learning_rate=0.1, loss='deviance', max_depth=3,\n",
       "              max_features=None, max_leaf_nodes=None,\n",
       "              min_impurity_decrease=0.0, min_impurity_split=None,\n",
       "              min_samples_leaf=1, min_samples_split=2,\n",
       "              min_weight_fraction_leaf=0.0, n_estimators=100,\n",
       "              n_iter_no_change=None, presort='auto', random_state=None,\n",
       "              subsample=1.0, tol=0.0001, validation_fraction=0.1,\n",
       "              verbose=0, warm_start=False)"
      ]
     },
     "execution_count": 82,
     "metadata": {},
     "output_type": "execute_result"
    }
   ],
   "source": [
    "from sklearn.ensemble import GradientBoostingClassifier\n",
    "gbc = GradientBoostingClassifier(n_estimators=100, learning_rate=0.1)\n",
    "gbc.fit(X_train, y_train)"
   ]
  },
  {
   "cell_type": "code",
   "execution_count": 83,
   "metadata": {},
   "outputs": [],
   "source": [
    "trainpredict = gbc.predict(X_train)\n",
    "trainpredictProb = gbc.predict_proba(X_train)"
   ]
  },
  {
   "cell_type": "code",
   "execution_count": 84,
   "metadata": {},
   "outputs": [
    {
     "name": "stdout",
     "output_type": "stream",
     "text": [
      "[[3325  303]\n",
      " [ 545  757]]\n",
      "              precision    recall  f1-score   support\n",
      "\n",
      "           0       0.86      0.92      0.89      3628\n",
      "           1       0.71      0.58      0.64      1302\n",
      "\n",
      "   micro avg       0.83      0.83      0.83      4930\n",
      "   macro avg       0.79      0.75      0.76      4930\n",
      "weighted avg       0.82      0.83      0.82      4930\n",
      "\n",
      "ROC AUC : 0.883591544346159\n"
     ]
    }
   ],
   "source": [
    "print(confusion_matrix(y_train, trainpredict))\n",
    "print(classification_report(y_train, trainpredict))\n",
    "print('ROC AUC :', roc_auc_score(y_train, trainpredictProb[:,1]))\n"
   ]
  },
  {
   "cell_type": "code",
   "execution_count": 85,
   "metadata": {},
   "outputs": [
    {
     "data": {
      "text/plain": [
       "<matplotlib.axes._subplots.AxesSubplot at 0x2393cda5cc0>"
      ]
     },
     "execution_count": 85,
     "metadata": {},
     "output_type": "execute_result"
    },
    {
     "data": {
      "image/png": "[encoded data removed]",
      "text/plain": [
       "<Figure size 576x576 with 1 Axes>"
      ]
     },
     "metadata": {},
     "output_type": "display_data"
    }
   ],
   "source": [
    "coef1 = pd.Series(gbc.feature_importances_, data.columns).sort_values(ascending = False).head(10)\n",
    "coef1.plot(kind='bar', title='Feature Importances')"
   ]
  },
  {
   "cell_type": "markdown",
   "metadata": {},
   "source": [
    "## XGboost"
   ]
  },
  {
   "cell_type": "code",
   "execution_count": 86,
   "metadata": {},
   "outputs": [
    {
     "data": {
      "text/html": [
       "<div>\n",
       "<style scoped>\n",
       "    .dataframe tbody tr th:only-of-type {\n",
       "        vertical-align: middle;\n",
       "    }\n",
       "\n",
       "    .dataframe tbody tr th {\n",
       "        vertical-align: top;\n",
       "    }\n",
       "\n",
       "    .dataframe thead th {\n",
       "        text-align: right;\n",
       "    }\n",
       "</style>\n",
       "<table border=\"1\" class=\"dataframe\">\n",
       "  <thead>\n",
       "    <tr style=\"text-align: right;\">\n",
       "      <th></th>\n",
       "      <th>SeniorCitizen</th>\n",
       "      <th>Partner</th>\n",
       "      <th>Dependents</th>\n",
       "      <th>tenure</th>\n",
       "      <th>PhoneService</th>\n",
       "      <th>MultipleLines</th>\n",
       "      <th>OnlineSecurity</th>\n",
       "      <th>OnlineBackup</th>\n",
       "      <th>DeviceProtection</th>\n",
       "      <th>TechSupport</th>\n",
       "      <th>...</th>\n",
       "      <th>PaymentMethod_Credit card (automatic)</th>\n",
       "      <th>PaymentMethod_Electronic check</th>\n",
       "      <th>PaymentMethod_Mailed check</th>\n",
       "      <th>Contract_Month-to-month</th>\n",
       "      <th>Contract_One year</th>\n",
       "      <th>Contract_Two year</th>\n",
       "      <th>Has_InternetService</th>\n",
       "      <th>Fiber_optic</th>\n",
       "      <th>DSL</th>\n",
       "      <th>y_ros</th>\n",
       "    </tr>\n",
       "  </thead>\n",
       "  <tbody>\n",
       "    <tr>\n",
       "      <th>0</th>\n",
       "      <td>0.0</td>\n",
       "      <td>1.0</td>\n",
       "      <td>0.0</td>\n",
       "      <td>39.0</td>\n",
       "      <td>1.0</td>\n",
       "      <td>0.0</td>\n",
       "      <td>0.0</td>\n",
       "      <td>0.0</td>\n",
       "      <td>0.0</td>\n",
       "      <td>0.0</td>\n",
       "      <td>...</td>\n",
       "      <td>0.0</td>\n",
       "      <td>0.0</td>\n",
       "      <td>0.0</td>\n",
       "      <td>0.0</td>\n",
       "      <td>0.0</td>\n",
       "      <td>1.0</td>\n",
       "      <td>0.0</td>\n",
       "      <td>0.0</td>\n",
       "      <td>0.0</td>\n",
       "      <td>0</td>\n",
       "    </tr>\n",
       "    <tr>\n",
       "      <th>1</th>\n",
       "      <td>1.0</td>\n",
       "      <td>1.0</td>\n",
       "      <td>0.0</td>\n",
       "      <td>60.0</td>\n",
       "      <td>1.0</td>\n",
       "      <td>1.0</td>\n",
       "      <td>1.0</td>\n",
       "      <td>1.0</td>\n",
       "      <td>1.0</td>\n",
       "      <td>1.0</td>\n",
       "      <td>...</td>\n",
       "      <td>0.0</td>\n",
       "      <td>0.0</td>\n",
       "      <td>0.0</td>\n",
       "      <td>0.0</td>\n",
       "      <td>0.0</td>\n",
       "      <td>1.0</td>\n",
       "      <td>1.0</td>\n",
       "      <td>1.0</td>\n",
       "      <td>0.0</td>\n",
       "      <td>0</td>\n",
       "    </tr>\n",
       "  </tbody>\n",
       "</table>\n",
       "<p>2 rows × 28 columns</p>\n",
       "</div>"
      ],
      "text/plain": [
       "   SeniorCitizen  Partner  Dependents  tenure  PhoneService  MultipleLines  \\\n",
       "0            0.0      1.0         0.0    39.0           1.0            0.0   \n",
       "1            1.0      1.0         0.0    60.0           1.0            1.0   \n",
       "\n",
       "   OnlineSecurity  OnlineBackup  DeviceProtection  TechSupport  ...    \\\n",
       "0             0.0           0.0               0.0          0.0  ...     \n",
       "1             1.0           1.0               1.0          1.0  ...     \n",
       "\n",
       "   PaymentMethod_Credit card (automatic)  PaymentMethod_Electronic check  \\\n",
       "0                                    0.0                             0.0   \n",
       "1                                    0.0                             0.0   \n",
       "\n",
       "   PaymentMethod_Mailed check  Contract_Month-to-month  Contract_One year  \\\n",
       "0                         0.0                      0.0                0.0   \n",
       "1                         0.0                      0.0                0.0   \n",
       "\n",
       "   Contract_Two year  Has_InternetService  Fiber_optic  DSL  y_ros  \n",
       "0                1.0                  0.0          0.0  0.0      0  \n",
       "1                1.0                  1.0          1.0  0.0      0  \n",
       "\n",
       "[2 rows x 28 columns]"
      ]
     },
     "execution_count": 86,
     "metadata": {},
     "output_type": "execute_result"
    }
   ],
   "source": [
    "xRosDf = pd.DataFrame(columns=X_train.columns, data=X_ros)\n",
    "xRosDf['y_ros'] = y_ros\n",
    "xRosDf.head(2)"
   ]
  },
  {
   "cell_type": "code",
   "execution_count": 87,
   "metadata": {},
   "outputs": [],
   "source": [
    "from xgboost import XGBClassifier"
   ]
  },
  {
   "cell_type": "code",
   "execution_count": 88,
   "metadata": {},
   "outputs": [
    {
     "data": {
      "text/plain": [
       "XGBClassifier(base_score=0.5, booster='gbtree', colsample_bylevel=1,\n",
       "       colsample_bytree=1, gamma=0, learning_rate=0.1, max_delta_step=0,\n",
       "       max_depth=1, min_child_weight=1, missing=None, n_estimators=100,\n",
       "       n_jobs=1, nthread=None, objective='binary:logistic',\n",
       "       random_state=101, reg_alpha=0, reg_lambda=1, scale_pos_weight=1,\n",
       "       seed=None, silent=True, subsample=1)"
      ]
     },
     "execution_count": 88,
     "metadata": {},
     "output_type": "execute_result"
    }
   ],
   "source": [
    "xgbModel = XGBClassifier(random_state=101, n_estimators=100, learning_rate=0.1,max_depth=1)\n",
    "xgbModel.fit(xRosDf.drop('y_ros', axis=1),xRosDf['y_ros'])"
   ]
  },
  {
   "cell_type": "code",
   "execution_count": 89,
   "metadata": {},
   "outputs": [],
   "source": [
    "predict_test = xgbModel.predict(X_test)\n",
    "predictProb_test = xgbModel.predict_proba(X_test)"
   ]
  },
  {
   "cell_type": "code",
   "execution_count": 90,
   "metadata": {},
   "outputs": [
    {
     "name": "stdout",
     "output_type": "stream",
     "text": [
      "[[1113  433]\n",
      " [  95  472]]\n",
      "              precision    recall  f1-score   support\n",
      "\n",
      "           0       0.92      0.72      0.81      1546\n",
      "           1       0.52      0.83      0.64       567\n",
      "\n",
      "   micro avg       0.75      0.75      0.75      2113\n",
      "   macro avg       0.72      0.78      0.72      2113\n",
      "weighted avg       0.81      0.75      0.76      2113\n",
      "\n",
      "ROC AUC: 0.8504378369622008\n",
      "Accuracy: 0.7501183151916706\n",
      "Matthews Corr_coef: 0.49461997487685233\n"
     ]
    }
   ],
   "source": [
    "print(confusion_matrix(y_test, predict_test))\n",
    "print(classification_report(y_test, predict_test))\n",
    "print('ROC AUC:', roc_auc_score(y_test, predictProb_test[:,1]))\n",
    "print('Accuracy:', accuracy_score(y_test, predict_test))\n",
    "print('Matthews Corr_coef:', matthews_corrcoef(y_test, predict_test))"
   ]
  },
  {
   "cell_type": "code",
   "execution_count": 91,
   "metadata": {},
   "outputs": [
    {
     "data": {
      "text/plain": [
       "<matplotlib.axes._subplots.AxesSubplot at 0x2393ce2ba20>"
      ]
     },
     "execution_count": 91,
     "metadata": {},
     "output_type": "execute_result"
    },
    {
     "data": {
      "image/png": "[encoded data removed]",
      "text/plain": [
       "<Figure size 576x576 with 1 Axes>"
      ]
     },
     "metadata": {},
     "output_type": "display_data"
    }
   ],
   "source": [
    "coef1 = pd.Series(xgbModel.feature_importances_, data.columns).sort_values(ascending = False).head(10)\n",
    "coef1.plot(kind='bar', title='Feature Importances')"
   ]
  },
  {
   "cell_type": "markdown",
   "metadata": {},
   "source": [
    "### cek data train"
   ]
  },
  {
   "cell_type": "code",
   "execution_count": 92,
   "metadata": {},
   "outputs": [],
   "source": [
    "predict_train = xgbModel.predict(X_train)\n",
    "predictProb_train = xgbModel.predict_proba(X_train)"
   ]
  },
  {
   "cell_type": "code",
   "execution_count": 93,
   "metadata": {},
   "outputs": [
    {
     "name": "stdout",
     "output_type": "stream",
     "text": [
      "[[2573 1055]\n",
      " [ 223 1079]]\n",
      "              precision    recall  f1-score   support\n",
      "\n",
      "           0       0.92      0.71      0.80      3628\n",
      "           1       0.51      0.83      0.63      1302\n",
      "\n",
      "   micro avg       0.74      0.74      0.74      4930\n",
      "   macro avg       0.71      0.77      0.71      4930\n",
      "weighted avg       0.81      0.74      0.76      4930\n",
      "\n",
      "ROC AUC: 0.8485864550678542\n",
      "Accuracy: 0.7407707910750507\n",
      "Matthews Corr_coef: 0.47863018543645197\n"
     ]
    }
   ],
   "source": [
    "print(confusion_matrix(y_train, predict_train))\n",
    "print(classification_report(y_train, predict_train))\n",
    "print('ROC AUC:', roc_auc_score(y_train, predictProb_train[:,1]))\n",
    "print('Accuracy:', accuracy_score(y_train, predict_train))\n",
    "print('Matthews Corr_coef:', matthews_corrcoef(y_train, predict_train))"
   ]
  },
  {
   "cell_type": "markdown",
   "metadata": {},
   "source": [
    "## K Fold"
   ]
  },
  {
   "cell_type": "code",
   "execution_count": 94,
   "metadata": {},
   "outputs": [],
   "source": [
    "from sklearn.model_selection import KFold\n",
    "kf = KFold(n_splits=5, shuffle=True, random_state=42)"
   ]
  },
  {
   "cell_type": "code",
   "execution_count": 95,
   "metadata": {},
   "outputs": [],
   "source": [
    "from sklearn.metrics import classification_report,confusion_matrix, roc_auc_score, accuracy_score, roc_curve,auc, matthews_corrcoef, f1_score\n",
    "# from sklearn.ensemble import GradientBoostingClassifier\n"
   ]
  },
  {
   "cell_type": "code",
   "execution_count": 96,
   "metadata": {},
   "outputs": [],
   "source": [
    "def calc_train_error(X_train, y_train, model):\n",
    "    predictions = model.predict(X_train)\n",
    "    predictProba = model.predict_proba(X_train)\n",
    "    matt = matthews_corrcoef(y_train, predictions)\n",
    "    f1 = f1_score(y_train, predictions, average='macro')\n",
    "    report = classification_report(y_train, predictions)\n",
    "    roc_auc = roc_auc_score(y_train, predictProba[:,1])\n",
    "    acc = accuracy_score(y_train, predictions)\n",
    "    confMatrix = confusion_matrix(y_train, predictions)\n",
    "    return {'report': report, 'matthew': matt, 'f1': f1, 'roc': roc_auc, 'accuracy': acc, 'confusion': confMatrix}\n",
    "\n",
    "def calc_validation_error(X_test, y_test, model):\n",
    "    predictions = model.predict(X_test)\n",
    "    predictProba = model.predict_proba(X_test)\n",
    "    matt = matthews_corrcoef(y_test, predictions)\n",
    "    f1 = f1_score(y_test, predictions, average='macro')\n",
    "    report = classification_report(y_test, predictions)\n",
    "    roc_auc = roc_auc_score(y_test, predictProba[:,1])\n",
    "    acc = accuracy_score(y_test, predictions)\n",
    "    confMatrix = confusion_matrix(y_test, predictions)\n",
    "    return {'report': report, 'matthew': matt, 'f1': f1, 'roc': roc_auc, 'accuracy': acc, 'confusion': confMatrix}\n",
    "\n",
    "def calc_metrics(X_train, y_train, X_test, y_test, model):\n",
    "    model.fit(X_train, y_train)\n",
    "    train_error = calc_train_error(X_train, y_train, model)\n",
    "    validation_error = calc_validation_error(X_test, y_test, model)\n",
    "    return train_error, validation_error"
   ]
  },
  {
   "cell_type": "code",
   "execution_count": null,
   "metadata": {},
   "outputs": [],
   "source": []
  },
  {
   "cell_type": "code",
   "execution_count": 97,
   "metadata": {},
   "outputs": [],
   "source": [
    "train_errors = []\n",
    "validation_errors = []\n",
    "\n",
    "for train_index, val_index in kf.split(data, target):\n",
    "    X_train, X_val = data.iloc[train_index], data.iloc[val_index]\n",
    "    y_train, y_val = target.iloc[train_index], target.iloc[val_index]\n",
    "    \n",
    "    ros = RandomOverSampler(random_state=42)\n",
    "    X_ros,y_ros = ros.fit_sample(X_train,y_train)\n",
    "    X_ros = pd.DataFrame(X_ros,columns=X_train.columns)\n",
    "    xgb=XGBClassifier(base_score=0.5, booster='gbtree', colsample_bylevel=1,\n",
    "       colsample_bytree=1, gamma=0, learning_rate=0.1, max_delta_step=0,\n",
    "       max_depth=1, min_child_weight=1, missing=None, n_estimators=100,\n",
    "       n_jobs=1, nthread=None, objective='binary:logistic',\n",
    "       random_state=101, reg_alpha=0, reg_lambda=1, scale_pos_weight=1,\n",
    "       seed=None, silent=True, subsample=1)\n",
    "    \n",
    "    train_error, val_error = calc_metrics(X_ros, y_ros, X_val, y_val, xgb)\n",
    "    \n",
    "    train_errors.append(train_error)\n",
    "    validation_errors.append(val_error)"
   ]
  },
  {
   "cell_type": "code",
   "execution_count": 98,
   "metadata": {},
   "outputs": [
    {
     "data": {
      "text/html": [
       "<div>\n",
       "<style scoped>\n",
       "    .dataframe tbody tr th:only-of-type {\n",
       "        vertical-align: middle;\n",
       "    }\n",
       "\n",
       "    .dataframe tbody tr th {\n",
       "        vertical-align: top;\n",
       "    }\n",
       "\n",
       "    .dataframe thead th {\n",
       "        text-align: right;\n",
       "    }\n",
       "</style>\n",
       "<table border=\"1\" class=\"dataframe\">\n",
       "  <thead>\n",
       "    <tr style=\"text-align: right;\">\n",
       "      <th></th>\n",
       "      <th>Train Accuracy</th>\n",
       "      <th>Test Accuracy</th>\n",
       "      <th>Train ROC AUC</th>\n",
       "      <th>Test ROC AUC</th>\n",
       "      <th>Train F1 Score</th>\n",
       "      <th>Test F1 Score</th>\n",
       "      <th>Train Matthews Corr Coef</th>\n",
       "      <th>Test Matthews Corr Coef</th>\n",
       "    </tr>\n",
       "  </thead>\n",
       "  <tbody>\n",
       "    <tr>\n",
       "      <th>0</th>\n",
       "      <td>0.762687</td>\n",
       "      <td>0.745209</td>\n",
       "      <td>0.846520</td>\n",
       "      <td>0.860665</td>\n",
       "      <td>0.761984</td>\n",
       "      <td>0.721890</td>\n",
       "      <td>0.528509</td>\n",
       "      <td>0.500849</td>\n",
       "    </tr>\n",
       "    <tr>\n",
       "      <th>1</th>\n",
       "      <td>0.762618</td>\n",
       "      <td>0.740951</td>\n",
       "      <td>0.845827</td>\n",
       "      <td>0.860462</td>\n",
       "      <td>0.761982</td>\n",
       "      <td>0.716473</td>\n",
       "      <td>0.528064</td>\n",
       "      <td>0.484358</td>\n",
       "    </tr>\n",
       "    <tr>\n",
       "      <th>2</th>\n",
       "      <td>0.775945</td>\n",
       "      <td>0.737402</td>\n",
       "      <td>0.855499</td>\n",
       "      <td>0.830981</td>\n",
       "      <td>0.775080</td>\n",
       "      <td>0.711660</td>\n",
       "      <td>0.556183</td>\n",
       "      <td>0.461977</td>\n",
       "    </tr>\n",
       "    <tr>\n",
       "      <th>3</th>\n",
       "      <td>0.772332</td>\n",
       "      <td>0.745739</td>\n",
       "      <td>0.854499</td>\n",
       "      <td>0.835995</td>\n",
       "      <td>0.771729</td>\n",
       "      <td>0.717381</td>\n",
       "      <td>0.547568</td>\n",
       "      <td>0.473894</td>\n",
       "    </tr>\n",
       "    <tr>\n",
       "      <th>4</th>\n",
       "      <td>0.774381</td>\n",
       "      <td>0.734375</td>\n",
       "      <td>0.851074</td>\n",
       "      <td>0.840298</td>\n",
       "      <td>0.773452</td>\n",
       "      <td>0.700423</td>\n",
       "      <td>0.553321</td>\n",
       "      <td>0.444643</td>\n",
       "    </tr>\n",
       "  </tbody>\n",
       "</table>\n",
       "</div>"
      ],
      "text/plain": [
       "   Train Accuracy  Test Accuracy  Train ROC AUC  Test ROC AUC  Train F1 Score  \\\n",
       "0        0.762687       0.745209       0.846520      0.860665        0.761984   \n",
       "1        0.762618       0.740951       0.845827      0.860462        0.761982   \n",
       "2        0.775945       0.737402       0.855499      0.830981        0.775080   \n",
       "3        0.772332       0.745739       0.854499      0.835995        0.771729   \n",
       "4        0.774381       0.734375       0.851074      0.840298        0.773452   \n",
       "\n",
       "   Test F1 Score  Train Matthews Corr Coef  Test Matthews Corr Coef  \n",
       "0       0.721890                  0.528509                 0.500849  \n",
       "1       0.716473                  0.528064                 0.484358  \n",
       "2       0.711660                  0.556183                 0.461977  \n",
       "3       0.717381                  0.547568                 0.473894  \n",
       "4       0.700423                  0.553321                 0.444643  "
      ]
     },
     "execution_count": 98,
     "metadata": {},
     "output_type": "execute_result"
    }
   ],
   "source": [
    "dfEval = []\n",
    "for tr,val in zip(train_errors, validation_errors):\n",
    "    dfEval.append([tr['accuracy'], val['accuracy'], tr['roc'], val['roc'], tr['f1'], val['f1'],\n",
    "                  tr['matthew'], val['matthew']])\n",
    "\n",
    "dfEval = pd.DataFrame(dfEval, columns=['Train Accuracy','Test Accuracy','Train ROC AUC','Test ROC AUC',\n",
    "                                       'Train F1 Score','Test F1 Score','Train Matthews Corr Coef',\n",
    "                                       'Test Matthews Corr Coef'])\n",
    "dfEval"
   ]
  },
  {
   "cell_type": "code",
   "execution_count": 99,
   "metadata": {},
   "outputs": [
    {
     "name": "stdout",
     "output_type": "stream",
     "text": [
      "              precision    recall  f1-score   support\n",
      "\n",
      "           0       0.79      0.71      0.75      4138\n",
      "           1       0.74      0.82      0.77      4138\n",
      "\n",
      "   micro avg       0.76      0.76      0.76      8276\n",
      "   macro avg       0.77      0.76      0.76      8276\n",
      "weighted avg       0.77      0.76      0.76      8276\n",
      "\n",
      "              precision    recall  f1-score   support\n",
      "\n",
      "           0       0.79      0.71      0.75      4141\n",
      "           1       0.74      0.81      0.77      4141\n",
      "\n",
      "   micro avg       0.76      0.76      0.76      8282\n",
      "   macro avg       0.77      0.76      0.76      8282\n",
      "weighted avg       0.77      0.76      0.76      8282\n",
      "\n",
      "              precision    recall  f1-score   support\n",
      "\n",
      "           0       0.82      0.71      0.76      4153\n",
      "           1       0.75      0.84      0.79      4153\n",
      "\n",
      "   micro avg       0.78      0.78      0.78      8306\n",
      "   macro avg       0.78      0.78      0.78      8306\n",
      "weighted avg       0.78      0.78      0.78      8306\n",
      "\n",
      "              precision    recall  f1-score   support\n",
      "\n",
      "           0       0.80      0.72      0.76      4142\n",
      "           1       0.75      0.82      0.78      4142\n",
      "\n",
      "   micro avg       0.77      0.77      0.77      8284\n",
      "   macro avg       0.78      0.77      0.77      8284\n",
      "weighted avg       0.78      0.77      0.77      8284\n",
      "\n",
      "              precision    recall  f1-score   support\n",
      "\n",
      "           0       0.81      0.71      0.76      4122\n",
      "           1       0.74      0.84      0.79      4122\n",
      "\n",
      "   micro avg       0.77      0.77      0.77      8244\n",
      "   macro avg       0.78      0.77      0.77      8244\n",
      "weighted avg       0.78      0.77      0.77      8244\n",
      "\n"
     ]
    }
   ],
   "source": [
    "for tr_err in train_errors:\n",
    "    print(tr_err['report'])"
   ]
  },
  {
   "cell_type": "code",
   "execution_count": 100,
   "metadata": {},
   "outputs": [
    {
     "name": "stdout",
     "output_type": "stream",
     "text": [
      "              precision    recall  f1-score   support\n",
      "\n",
      "           0       0.93      0.70      0.80      1036\n",
      "           1       0.51      0.86      0.64       373\n",
      "\n",
      "   micro avg       0.75      0.75      0.75      1409\n",
      "   macro avg       0.72      0.78      0.72      1409\n",
      "weighted avg       0.82      0.75      0.76      1409\n",
      "\n",
      "              precision    recall  f1-score   support\n",
      "\n",
      "           0       0.92      0.71      0.80      1033\n",
      "           1       0.51      0.84      0.63       376\n",
      "\n",
      "   micro avg       0.74      0.74      0.74      1409\n",
      "   macro avg       0.72      0.77      0.72      1409\n",
      "weighted avg       0.81      0.74      0.76      1409\n",
      "\n",
      "              precision    recall  f1-score   support\n",
      "\n",
      "           0       0.90      0.71      0.80      1021\n",
      "           1       0.52      0.80      0.63       388\n",
      "\n",
      "   micro avg       0.74      0.74      0.74      1409\n",
      "   macro avg       0.71      0.76      0.71      1409\n",
      "weighted avg       0.80      0.74      0.75      1409\n",
      "\n",
      "              precision    recall  f1-score   support\n",
      "\n",
      "           0       0.91      0.72      0.81      1032\n",
      "           1       0.52      0.80      0.63       376\n",
      "\n",
      "   micro avg       0.75      0.75      0.75      1408\n",
      "   macro avg       0.71      0.76      0.72      1408\n",
      "weighted avg       0.80      0.75      0.76      1408\n",
      "\n",
      "              precision    recall  f1-score   support\n",
      "\n",
      "           0       0.91      0.72      0.80      1052\n",
      "           1       0.48      0.79      0.60       356\n",
      "\n",
      "   micro avg       0.73      0.73      0.73      1408\n",
      "   macro avg       0.70      0.75      0.70      1408\n",
      "weighted avg       0.80      0.73      0.75      1408\n",
      "\n"
     ]
    }
   ],
   "source": [
    "for tr_err in validation_errors:\n",
    "    print(tr_err['report'])"
   ]
  },
  {
   "cell_type": "markdown",
   "metadata": {},
   "source": [
    "## Pipeline"
   ]
  },
  {
   "cell_type": "code",
   "execution_count": 101,
   "metadata": {},
   "outputs": [],
   "source": [
    "from sklearn.preprocessing import OneHotEncoder, LabelEncoder\n",
    "from sklearn.pipeline import Pipeline\n",
    "from sklearn.compose import ColumnTransformer"
   ]
  },
  {
   "cell_type": "code",
   "execution_count": 102,
   "metadata": {},
   "outputs": [],
   "source": [
    "ct = ColumnTransformer([('OneHot',OneHotEncoder(),np.arange(1,23)),],remainder='passthrough')"
   ]
  },
  {
   "cell_type": "code",
   "execution_count": 103,
   "metadata": {},
   "outputs": [],
   "source": [
    "dfbefore = pd.read_csv('churn.csv')"
   ]
  },
  {
   "cell_type": "code",
   "execution_count": 104,
   "metadata": {},
   "outputs": [
    {
     "data": {
      "text/plain": [
       "Index(['customerID', 'gender', 'SeniorCitizen', 'Partner', 'Dependents',\n",
       "       'tenure', 'PhoneService', 'MultipleLines', 'InternetService',\n",
       "       'OnlineSecurity', 'OnlineBackup', 'DeviceProtection', 'TechSupport',\n",
       "       'StreamingTV', 'StreamingMovies', 'Contract', 'PaperlessBilling',\n",
       "       'PaymentMethod', 'MonthlyCharges', 'TotalCharges', 'Churn'],\n",
       "      dtype='object')"
      ]
     },
     "execution_count": 104,
     "metadata": {},
     "output_type": "execute_result"
    }
   ],
   "source": [
    "dfbefore.columns"
   ]
  },
  {
   "cell_type": "code",
   "execution_count": 105,
   "metadata": {},
   "outputs": [],
   "source": [
    "#yang gamau di onehot dan mau di one hot\n",
    "dfnew = dfbefore[['Partner','Dependents','tenure','PhoneService','MultipleLines','OnlineSecurity','OnlineBackup','DeviceProtection','TechSupport','StreamingTV','StreamingMovies','PaperlessBilling','MonthlyCharges','TotalCharges','Churn','gender','InternetService','Contract','PaymentMethod']]"
   ]
  },
  {
   "cell_type": "code",
   "execution_count": 106,
   "metadata": {},
   "outputs": [
    {
     "data": {
      "text/html": [
       "<div>\n",
       "<style scoped>\n",
       "    .dataframe tbody tr th:only-of-type {\n",
       "        vertical-align: middle;\n",
       "    }\n",
       "\n",
       "    .dataframe tbody tr th {\n",
       "        vertical-align: top;\n",
       "    }\n",
       "\n",
       "    .dataframe thead th {\n",
       "        text-align: right;\n",
       "    }\n",
       "</style>\n",
       "<table border=\"1\" class=\"dataframe\">\n",
       "  <thead>\n",
       "    <tr style=\"text-align: right;\">\n",
       "      <th></th>\n",
       "      <th>Partner</th>\n",
       "      <th>Dependents</th>\n",
       "      <th>tenure</th>\n",
       "      <th>PhoneService</th>\n",
       "      <th>MultipleLines</th>\n",
       "      <th>OnlineSecurity</th>\n",
       "      <th>OnlineBackup</th>\n",
       "      <th>DeviceProtection</th>\n",
       "      <th>TechSupport</th>\n",
       "      <th>StreamingTV</th>\n",
       "      <th>StreamingMovies</th>\n",
       "      <th>PaperlessBilling</th>\n",
       "      <th>MonthlyCharges</th>\n",
       "      <th>TotalCharges</th>\n",
       "      <th>Churn</th>\n",
       "      <th>gender</th>\n",
       "      <th>InternetService</th>\n",
       "      <th>Contract</th>\n",
       "      <th>PaymentMethod</th>\n",
       "    </tr>\n",
       "  </thead>\n",
       "  <tbody>\n",
       "    <tr>\n",
       "      <th>0</th>\n",
       "      <td>Yes</td>\n",
       "      <td>No</td>\n",
       "      <td>1</td>\n",
       "      <td>No</td>\n",
       "      <td>No phone service</td>\n",
       "      <td>No</td>\n",
       "      <td>Yes</td>\n",
       "      <td>No</td>\n",
       "      <td>No</td>\n",
       "      <td>No</td>\n",
       "      <td>No</td>\n",
       "      <td>Yes</td>\n",
       "      <td>29.85</td>\n",
       "      <td>29.85</td>\n",
       "      <td>No</td>\n",
       "      <td>Female</td>\n",
       "      <td>DSL</td>\n",
       "      <td>Month-to-month</td>\n",
       "      <td>Electronic check</td>\n",
       "    </tr>\n",
       "    <tr>\n",
       "      <th>1</th>\n",
       "      <td>No</td>\n",
       "      <td>No</td>\n",
       "      <td>34</td>\n",
       "      <td>Yes</td>\n",
       "      <td>No</td>\n",
       "      <td>Yes</td>\n",
       "      <td>No</td>\n",
       "      <td>Yes</td>\n",
       "      <td>No</td>\n",
       "      <td>No</td>\n",
       "      <td>No</td>\n",
       "      <td>No</td>\n",
       "      <td>56.95</td>\n",
       "      <td>1889.5</td>\n",
       "      <td>No</td>\n",
       "      <td>Male</td>\n",
       "      <td>DSL</td>\n",
       "      <td>One year</td>\n",
       "      <td>Mailed check</td>\n",
       "    </tr>\n",
       "    <tr>\n",
       "      <th>2</th>\n",
       "      <td>No</td>\n",
       "      <td>No</td>\n",
       "      <td>2</td>\n",
       "      <td>Yes</td>\n",
       "      <td>No</td>\n",
       "      <td>Yes</td>\n",
       "      <td>Yes</td>\n",
       "      <td>No</td>\n",
       "      <td>No</td>\n",
       "      <td>No</td>\n",
       "      <td>No</td>\n",
       "      <td>Yes</td>\n",
       "      <td>53.85</td>\n",
       "      <td>108.15</td>\n",
       "      <td>Yes</td>\n",
       "      <td>Male</td>\n",
       "      <td>DSL</td>\n",
       "      <td>Month-to-month</td>\n",
       "      <td>Mailed check</td>\n",
       "    </tr>\n",
       "    <tr>\n",
       "      <th>3</th>\n",
       "      <td>No</td>\n",
       "      <td>No</td>\n",
       "      <td>45</td>\n",
       "      <td>No</td>\n",
       "      <td>No phone service</td>\n",
       "      <td>Yes</td>\n",
       "      <td>No</td>\n",
       "      <td>Yes</td>\n",
       "      <td>Yes</td>\n",
       "      <td>No</td>\n",
       "      <td>No</td>\n",
       "      <td>No</td>\n",
       "      <td>42.30</td>\n",
       "      <td>1840.75</td>\n",
       "      <td>No</td>\n",
       "      <td>Male</td>\n",
       "      <td>DSL</td>\n",
       "      <td>One year</td>\n",
       "      <td>Bank transfer (automatic)</td>\n",
       "    </tr>\n",
       "    <tr>\n",
       "      <th>4</th>\n",
       "      <td>No</td>\n",
       "      <td>No</td>\n",
       "      <td>2</td>\n",
       "      <td>Yes</td>\n",
       "      <td>No</td>\n",
       "      <td>No</td>\n",
       "      <td>No</td>\n",
       "      <td>No</td>\n",
       "      <td>No</td>\n",
       "      <td>No</td>\n",
       "      <td>No</td>\n",
       "      <td>Yes</td>\n",
       "      <td>70.70</td>\n",
       "      <td>151.65</td>\n",
       "      <td>Yes</td>\n",
       "      <td>Female</td>\n",
       "      <td>Fiber optic</td>\n",
       "      <td>Month-to-month</td>\n",
       "      <td>Electronic check</td>\n",
       "    </tr>\n",
       "  </tbody>\n",
       "</table>\n",
       "</div>"
      ],
      "text/plain": [
       "  Partner Dependents  tenure PhoneService     MultipleLines OnlineSecurity  \\\n",
       "0     Yes         No       1           No  No phone service             No   \n",
       "1      No         No      34          Yes                No            Yes   \n",
       "2      No         No       2          Yes                No            Yes   \n",
       "3      No         No      45           No  No phone service            Yes   \n",
       "4      No         No       2          Yes                No             No   \n",
       "\n",
       "  OnlineBackup DeviceProtection TechSupport StreamingTV StreamingMovies  \\\n",
       "0          Yes               No          No          No              No   \n",
       "1           No              Yes          No          No              No   \n",
       "2          Yes               No          No          No              No   \n",
       "3           No              Yes         Yes          No              No   \n",
       "4           No               No          No          No              No   \n",
       "\n",
       "  PaperlessBilling  MonthlyCharges TotalCharges Churn  gender InternetService  \\\n",
       "0              Yes           29.85        29.85    No  Female             DSL   \n",
       "1               No           56.95       1889.5    No    Male             DSL   \n",
       "2              Yes           53.85       108.15   Yes    Male             DSL   \n",
       "3               No           42.30      1840.75    No    Male             DSL   \n",
       "4              Yes           70.70       151.65   Yes  Female     Fiber optic   \n",
       "\n",
       "         Contract              PaymentMethod  \n",
       "0  Month-to-month           Electronic check  \n",
       "1        One year               Mailed check  \n",
       "2  Month-to-month               Mailed check  \n",
       "3        One year  Bank transfer (automatic)  \n",
       "4  Month-to-month           Electronic check  "
      ]
     },
     "execution_count": 106,
     "metadata": {},
     "output_type": "execute_result"
    }
   ],
   "source": [
    "dfnew.head()"
   ]
  },
  {
   "cell_type": "code",
   "execution_count": 107,
   "metadata": {},
   "outputs": [
    {
     "data": {
      "text/plain": [
       "0    4072\n",
       "1    2971\n",
       "Name: MultipleLines, dtype: int64"
      ]
     },
     "execution_count": 107,
     "metadata": {},
     "output_type": "execute_result"
    }
   ],
   "source": [
    "dfnew['MultipleLines'].replace('No phone service','No', inplace=True)\n",
    "dfnew['MultipleLines'] = dfnew['MultipleLines'].map(lambda s :1  if s =='Yes' else 0)\n",
    "dfnew['MultipleLines'].value_counts()"
   ]
  },
  {
   "cell_type": "code",
   "execution_count": 108,
   "metadata": {},
   "outputs": [],
   "source": [
    "le = LabelEncoder()\n",
    "target = le.fit_transform(target)\n",
    "dfnew['MultipleLines'] = le.fit_transform(dfnew['MultipleLines'])\n",
    "dfnew['Partner'] = le.fit_transform(dfnew['Partner'])\n",
    "dfnew['Dependents'] = le.fit_transform(dfnew['Dependents'])\n",
    "dfnew['PhoneService'] = le.fit_transform(dfnew['PhoneService'])\n",
    "dfnew['OnlineSecurity'] = le.fit_transform(dfnew['OnlineSecurity'])\n",
    "dfnew['OnlineBackup'] = le.fit_transform(dfnew['OnlineBackup'])\n",
    "dfnew['DeviceProtection'] = le.fit_transform(dfnew['DeviceProtection'])\n",
    "dfnew['TechSupport'] = le.fit_transform(dfnew['TechSupport'])\n",
    "dfnew['StreamingTV'] = le.fit_transform(dfnew['StreamingTV'])\n",
    "dfnew['StreamingMovies'] = le.fit_transform(dfnew['StreamingMovies'])\n",
    "dfnew['PaperlessBilling'] = le.fit_transform(dfnew['PaperlessBilling'])\n"
   ]
  },
  {
   "cell_type": "code",
   "execution_count": 109,
   "metadata": {},
   "outputs": [
    {
     "name": "stdout",
     "output_type": "stream",
     "text": [
      "Missing Value Rows--> [488, 753, 936, 1082, 1340, 3331, 3826, 4380, 5218, 6670, 6754] \n",
      "Total rows--> 11\n",
      "0 Value Rows--> [488, 753, 936, 1082, 1340, 3331, 3826, 4380, 5218, 6670, 6754] \n",
      "Total rows--> 11\n",
      "52.55 0 0.0\n",
      "20.25 0 0.0\n",
      "80.85 0 0.0\n",
      "25.75 0 0.0\n",
      "56.05 0 0.0\n",
      "19.85 0 0.0\n",
      "25.35 0 0.0\n",
      "20.0 0 0.0\n",
      "19.7 0 0.0\n",
      "73.35 0 0.0\n",
      "61.9 0 0.0\n"
     ]
    }
   ],
   "source": [
    "missing_value_row = list(dfnew[dfnew['TotalCharges'] == \" \"].index)\n",
    "print('Missing Value Rows-->', missing_value_row , '\\nTotal rows-->', len(missing_value_row))\n",
    "for missing_row in missing_value_row :\n",
    "    dfnew['TotalCharges'][missing_row] = 0\n",
    "print('0 Value Rows-->', missing_value_row , '\\nTotal rows-->', len(missing_value_row))\n",
    "\n",
    "zero_value_row = list(dftelco[dfnew['TotalCharges'] == 0].index)\n",
    "for zero_row in zero_value_row :\n",
    "    dfnew['TotalCharges'][zero_row] = dfnew['tenure'][zero_row] * dfnew['MonthlyCharges'][zero_row]\n",
    "\n",
    "for zero_row in zero_value_row :\n",
    "    print( dfnew['MonthlyCharges'][zero_row],dfnew['tenure'][zero_row],dfnew['TotalCharges'][zero_row])\n"
   ]
  },
  {
   "cell_type": "code",
   "execution_count": 110,
   "metadata": {},
   "outputs": [
    {
     "name": "stdout",
     "output_type": "stream",
     "text": [
      "<class 'pandas.core.frame.DataFrame'>\n",
      "RangeIndex: 7043 entries, 0 to 7042\n",
      "Data columns (total 19 columns):\n",
      "Partner             7043 non-null int32\n",
      "Dependents          7043 non-null int32\n",
      "tenure              7043 non-null int64\n",
      "PhoneService        7043 non-null int32\n",
      "MultipleLines       7043 non-null int64\n",
      "OnlineSecurity      7043 non-null int32\n",
      "OnlineBackup        7043 non-null int32\n",
      "DeviceProtection    7043 non-null int32\n",
      "TechSupport         7043 non-null int32\n",
      "StreamingTV         7043 non-null int32\n",
      "StreamingMovies     7043 non-null int32\n",
      "PaperlessBilling    7043 non-null int32\n",
      "MonthlyCharges      7043 non-null float64\n",
      "TotalCharges        7043 non-null object\n",
      "Churn               7043 non-null object\n",
      "gender              7043 non-null object\n",
      "InternetService     7043 non-null object\n",
      "Contract            7043 non-null object\n",
      "PaymentMethod       7043 non-null object\n",
      "dtypes: float64(1), int32(10), int64(2), object(6)\n",
      "memory usage: 770.4+ KB\n"
     ]
    }
   ],
   "source": [
    "dfnew.info()"
   ]
  },
  {
   "cell_type": "code",
   "execution_count": 111,
   "metadata": {},
   "outputs": [
    {
     "data": {
      "text/html": [
       "<div>\n",
       "<style scoped>\n",
       "    .dataframe tbody tr th:only-of-type {\n",
       "        vertical-align: middle;\n",
       "    }\n",
       "\n",
       "    .dataframe tbody tr th {\n",
       "        vertical-align: top;\n",
       "    }\n",
       "\n",
       "    .dataframe thead th {\n",
       "        text-align: right;\n",
       "    }\n",
       "</style>\n",
       "<table border=\"1\" class=\"dataframe\">\n",
       "  <thead>\n",
       "    <tr style=\"text-align: right;\">\n",
       "      <th></th>\n",
       "      <th>Partner</th>\n",
       "      <th>Dependents</th>\n",
       "      <th>tenure</th>\n",
       "      <th>PhoneService</th>\n",
       "      <th>MultipleLines</th>\n",
       "      <th>OnlineSecurity</th>\n",
       "      <th>OnlineBackup</th>\n",
       "      <th>DeviceProtection</th>\n",
       "      <th>TechSupport</th>\n",
       "      <th>StreamingTV</th>\n",
       "      <th>StreamingMovies</th>\n",
       "      <th>PaperlessBilling</th>\n",
       "      <th>MonthlyCharges</th>\n",
       "      <th>TotalCharges</th>\n",
       "      <th>Churn</th>\n",
       "      <th>gender</th>\n",
       "      <th>InternetService</th>\n",
       "      <th>Contract</th>\n",
       "      <th>PaymentMethod</th>\n",
       "    </tr>\n",
       "  </thead>\n",
       "  <tbody>\n",
       "    <tr>\n",
       "      <th>0</th>\n",
       "      <td>1</td>\n",
       "      <td>0</td>\n",
       "      <td>1</td>\n",
       "      <td>0</td>\n",
       "      <td>0</td>\n",
       "      <td>0</td>\n",
       "      <td>2</td>\n",
       "      <td>0</td>\n",
       "      <td>0</td>\n",
       "      <td>0</td>\n",
       "      <td>0</td>\n",
       "      <td>1</td>\n",
       "      <td>29.85</td>\n",
       "      <td>29.85</td>\n",
       "      <td>No</td>\n",
       "      <td>Female</td>\n",
       "      <td>DSL</td>\n",
       "      <td>Month-to-month</td>\n",
       "      <td>Electronic check</td>\n",
       "    </tr>\n",
       "    <tr>\n",
       "      <th>1</th>\n",
       "      <td>0</td>\n",
       "      <td>0</td>\n",
       "      <td>34</td>\n",
       "      <td>1</td>\n",
       "      <td>0</td>\n",
       "      <td>2</td>\n",
       "      <td>0</td>\n",
       "      <td>2</td>\n",
       "      <td>0</td>\n",
       "      <td>0</td>\n",
       "      <td>0</td>\n",
       "      <td>0</td>\n",
       "      <td>56.95</td>\n",
       "      <td>1889.5</td>\n",
       "      <td>No</td>\n",
       "      <td>Male</td>\n",
       "      <td>DSL</td>\n",
       "      <td>One year</td>\n",
       "      <td>Mailed check</td>\n",
       "    </tr>\n",
       "    <tr>\n",
       "      <th>2</th>\n",
       "      <td>0</td>\n",
       "      <td>0</td>\n",
       "      <td>2</td>\n",
       "      <td>1</td>\n",
       "      <td>0</td>\n",
       "      <td>2</td>\n",
       "      <td>2</td>\n",
       "      <td>0</td>\n",
       "      <td>0</td>\n",
       "      <td>0</td>\n",
       "      <td>0</td>\n",
       "      <td>1</td>\n",
       "      <td>53.85</td>\n",
       "      <td>108.15</td>\n",
       "      <td>Yes</td>\n",
       "      <td>Male</td>\n",
       "      <td>DSL</td>\n",
       "      <td>Month-to-month</td>\n",
       "      <td>Mailed check</td>\n",
       "    </tr>\n",
       "    <tr>\n",
       "      <th>3</th>\n",
       "      <td>0</td>\n",
       "      <td>0</td>\n",
       "      <td>45</td>\n",
       "      <td>0</td>\n",
       "      <td>0</td>\n",
       "      <td>2</td>\n",
       "      <td>0</td>\n",
       "      <td>2</td>\n",
       "      <td>2</td>\n",
       "      <td>0</td>\n",
       "      <td>0</td>\n",
       "      <td>0</td>\n",
       "      <td>42.30</td>\n",
       "      <td>1840.75</td>\n",
       "      <td>No</td>\n",
       "      <td>Male</td>\n",
       "      <td>DSL</td>\n",
       "      <td>One year</td>\n",
       "      <td>Bank transfer (automatic)</td>\n",
       "    </tr>\n",
       "    <tr>\n",
       "      <th>4</th>\n",
       "      <td>0</td>\n",
       "      <td>0</td>\n",
       "      <td>2</td>\n",
       "      <td>1</td>\n",
       "      <td>0</td>\n",
       "      <td>0</td>\n",
       "      <td>0</td>\n",
       "      <td>0</td>\n",
       "      <td>0</td>\n",
       "      <td>0</td>\n",
       "      <td>0</td>\n",
       "      <td>1</td>\n",
       "      <td>70.70</td>\n",
       "      <td>151.65</td>\n",
       "      <td>Yes</td>\n",
       "      <td>Female</td>\n",
       "      <td>Fiber optic</td>\n",
       "      <td>Month-to-month</td>\n",
       "      <td>Electronic check</td>\n",
       "    </tr>\n",
       "  </tbody>\n",
       "</table>\n",
       "</div>"
      ],
      "text/plain": [
       "   Partner  Dependents  tenure  PhoneService  MultipleLines  OnlineSecurity  \\\n",
       "0        1           0       1             0              0               0   \n",
       "1        0           0      34             1              0               2   \n",
       "2        0           0       2             1              0               2   \n",
       "3        0           0      45             0              0               2   \n",
       "4        0           0       2             1              0               0   \n",
       "\n",
       "   OnlineBackup  DeviceProtection  TechSupport  StreamingTV  StreamingMovies  \\\n",
       "0             2                 0            0            0                0   \n",
       "1             0                 2            0            0                0   \n",
       "2             2                 0            0            0                0   \n",
       "3             0                 2            2            0                0   \n",
       "4             0                 0            0            0                0   \n",
       "\n",
       "   PaperlessBilling  MonthlyCharges TotalCharges Churn  gender  \\\n",
       "0                 1           29.85        29.85    No  Female   \n",
       "1                 0           56.95       1889.5    No    Male   \n",
       "2                 1           53.85       108.15   Yes    Male   \n",
       "3                 0           42.30      1840.75    No    Male   \n",
       "4                 1           70.70       151.65   Yes  Female   \n",
       "\n",
       "  InternetService        Contract              PaymentMethod  \n",
       "0             DSL  Month-to-month           Electronic check  \n",
       "1             DSL        One year               Mailed check  \n",
       "2             DSL  Month-to-month               Mailed check  \n",
       "3             DSL        One year  Bank transfer (automatic)  \n",
       "4     Fiber optic  Month-to-month           Electronic check  "
      ]
     },
     "execution_count": 111,
     "metadata": {},
     "output_type": "execute_result"
    }
   ],
   "source": [
    "dfnew.head()"
   ]
  },
  {
   "cell_type": "code",
   "execution_count": 112,
   "metadata": {},
   "outputs": [],
   "source": [
    "pipeline = Pipeline([\n",
    "    ('transform',ColumnTransformer([('OneHot',OneHotEncoder(), np.arange(14,18))\n",
    "                                    ], remainder='passthrough')),\n",
    "    ('classifier', XGBClassifier(base_score=0.5,booster='gbtree',colsample_bylevel=1,\n",
    "       colsample_bytree=0.8, gamma=0,learning_rate=0.1,max_delta_step=0,\n",
    "       max_depth=2, min_child_weight=5,missing=None, n_estimators=64,\n",
    "       n_jobs=1, nthread=4, objective='binary:logistic',random_state=0,\n",
    "       reg_alpha=0, reg_lambda=1,scale_pos_weight=1,seed=27,silent=True,\n",
    "       subsample=0.8))\n",
    "])"
   ]
  },
  {
   "cell_type": "code",
   "execution_count": 113,
   "metadata": {},
   "outputs": [
    {
     "data": {
      "text/plain": [
       "Pipeline(memory=None,\n",
       "     steps=[('transform', ColumnTransformer(n_jobs=None, remainder='passthrough', sparse_threshold=0.3,\n",
       "         transformer_weights=None,\n",
       "         transformers=[('OneHot', OneHotEncoder(categorical_features=None, categories=None,\n",
       "       dtype=<class 'numpy.float64'>, handle_unknown='error',\n",
       "       n_val...\n",
       "       reg_alpha=0, reg_lambda=1, scale_pos_weight=1, seed=27, silent=True,\n",
       "       subsample=0.8))])"
      ]
     },
     "execution_count": 113,
     "metadata": {},
     "output_type": "execute_result"
    }
   ],
   "source": [
    "pipeline.fit(dfnew.drop('Churn', axis=1), target)"
   ]
  },
  {
   "cell_type": "code",
   "execution_count": 114,
   "metadata": {},
   "outputs": [
    {
     "data": {
      "text/plain": [
       "array([0], dtype=int64)"
      ]
     },
     "execution_count": 114,
     "metadata": {},
     "output_type": "execute_result"
    }
   ],
   "source": [
    "pipeline.predict([dfnew.drop('Churn', axis=1).loc[1,:]])"
   ]
  },
  {
   "cell_type": "code",
   "execution_count": 115,
   "metadata": {},
   "outputs": [
    {
     "data": {
      "text/plain": [
       "'Male'"
      ]
     },
     "execution_count": 115,
     "metadata": {},
     "output_type": "execute_result"
    }
   ],
   "source": [
    "dfnew.drop('Churn', axis=1).loc[10,:]['gender']"
   ]
  },
  {
   "cell_type": "markdown",
   "metadata": {},
   "source": [
    "## Deploy"
   ]
  },
  {
   "cell_type": "code",
   "execution_count": 116,
   "metadata": {},
   "outputs": [],
   "source": [
    "xgbModel = XGBClassifier(random_state=101, n_estimators=100, learning_rate=0.1,max_depth=1)\n",
    "xgbModel.fit(xRosDf.drop('y_ros', axis=1),xRosDf['y_ros'])\n",
    "import pickle\n",
    "filename = 'churnanalysis.sav';\n",
    "pickle.dump(pipeline, open(filename, 'wb'))\n"
   ]
  },
  {
   "cell_type": "code",
   "execution_count": 117,
   "metadata": {},
   "outputs": [
    {
     "data": {
      "text/plain": [
       "PaymentMethod       1\n",
       "Partner             1\n",
       "OnlineSecurity      1\n",
       "InternetService     1\n",
       "MonthlyCharges      1\n",
       "StreamingMovies     1\n",
       "OnlineBackup        1\n",
       "PaperlessBilling    1\n",
       "Dependents          1\n",
       "MultipleLines       1\n",
       "Contract            1\n",
       "DeviceProtection    1\n",
       "TotalCharges        1\n",
       "StreamingTV         1\n",
       "TechSupport         1\n",
       "Churn               1\n",
       "tenure              1\n",
       "PhoneService        1\n",
       "gender              1\n",
       "dtype: int64"
      ]
     },
     "execution_count": 117,
     "metadata": {},
     "output_type": "execute_result"
    }
   ],
   "source": [
    "dfnew.columns.value_counts()\n"
   ]
  }
 ],
 "metadata": {
  "kernelspec": {
   "display_name": "Python 3",
   "language": "python",
   "name": "python3"
  },
  "language_info": {
   "codemirror_mode": {
    "name": "ipython",
    "version": 3
   },
   "file_extension": ".py",
   "mimetype": "text/x-python",
   "name": "python",
   "nbconvert_exporter": "python",
   "pygments_lexer": "ipython3",
   "version": "3.6.5"
  }
 },
 "nbformat": 4,
 "nbformat_minor": 2
}
